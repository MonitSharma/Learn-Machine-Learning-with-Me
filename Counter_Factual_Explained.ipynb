{
  "nbformat": 4,
  "nbformat_minor": 0,
  "metadata": {
    "colab": {
      "provenance": [],
      "authorship_tag": "ABX9TyPl7FvxSyAodZ5DQiMpPSXo",
      "include_colab_link": true
    },
    "kernelspec": {
      "name": "python3",
      "display_name": "Python 3"
    },
    "language_info": {
      "name": "python"
    }
  },
  "cells": [
    {
      "cell_type": "markdown",
      "metadata": {
        "id": "view-in-github",
        "colab_type": "text"
      },
      "source": [
        "<a href=\"https://colab.research.google.com/github/MonitSharma/Learn-Machine-Learning-with-Me/blob/main/Counter_Factual_Explained.ipynb\" target=\"_parent\"><img src=\"https://colab.research.google.com/assets/colab-badge.svg\" alt=\"Open In Colab\"/></a>"
      ]
    },
    {
      "cell_type": "markdown",
      "source": [
        "# Counterfactual explanations\n",
        "Counterfactual explanations (CEs) are an important tool from the field of explainable artificial intelligence (XAI). \n",
        "This notebook teaches what CEs are, why they are important, and provides how they can be discovered.\n",
        "\n",
        "-----------\n",
        "--------\n",
        "\n",
        "\n",
        "## To begin with: What is *XAI*?\n",
        "XAI is a subfield of AI concerned with developing methods to help us use AI systems in a fair, safe, and responsible manner.\n",
        "To do that, XAI aims at *explaining* why an AI system (typically, actually a machine learning model) behaves the way it does.\n",
        "There are two main categories of XAI methods:\n",
        "\n",
        "1.  Methods to understand why very large and complex models, like deep neural nets and large ensembles of decision trees, come to certain decisions/predictions. \n",
        "These models are typically called *black-box* models.\n",
        "\n",
        "2.  Methods to generate models that are so simple that they can be interpreted directly. Models of this type are, e.g., decision trees, rule sets, and equations found by symbolic regression.\n",
        "These models are typically called *glass-box* models.\n",
        "\n",
        "\n",
        "\n",
        "-----------------\n",
        "-----------------\n",
        "\n",
        "\n",
        "\n",
        "\n",
        "## A brief intro to CEs\n",
        "CEs belong to the first category mentioned above: methods to explain black-box models.\n",
        "Let us consider the case in which we have a model that is a classifier, i.e., our model is a function $$f : \\Omega^d → \\mathbb{C},$$\n",
        "where $\\Omega^d$ is our space of $d$ features (some of which are numerical and thus in $\\mathbb{R}$, some of which are categorical) while $\\mathbb{C}$ is the space of classes (for example for a classifier of credit risk, $\\mathbb{C} = \\{ \\textit{High risk}, \\textit{Low risk} \\}$).\n",
        "\n",
        "Say $\\mathbf{x} \\in \\Omega^d$ is a possible input for our classifier $f$.\n",
        "$\\mathbf{x}$ represents a user. For example, $\\mathbf{x}$ can be the:\n",
        "$$\\mathbf{x} = ( \\textit{ age : 22, gender : Female, savings : 5.000\\$, job : student, } \\dots ). $$\n",
        "For a given $\\mathbf{x}$, $f$ will predict a certain class $c$ (e.g., \"$\\textit{High risk}$\").\n",
        "Now, a CE aims to answer the question:\n",
        "\"What **small change** is needed to $\\mathbf{x}$ such that the new input $\\mathbf{x}^\\prime$ will cause $f$ to produce the desired class $c^\\star$? (e.g., $f(\\mathbf{x}^\\prime) = \\textit{Low risk}$).\n",
        "\n",
        "A CE is a possible answer to the question above. \n",
        "For example, an answer could be that the user needs to increase their savings ($\\textit{5.000\\$} → {8.000\\$}$) and change occupation ($ \\textit{student} \\rightarrow \\textit{part-time employed}$).\n",
        "However, a CE may also reveal that $f$ changes its prediction based on ethnicity or gender (all other features remaining the same), meaning that $f$ learned harmful biases (e.g., from historical data) that perpetuate a discrimination against minorities (unfairness).\n",
        "\n",
        "-------------------------\n",
        "\n",
        "\n",
        "Here's a simplified depiction in a 2D feature space:\n",
        "![](https://drive.google.com/uc?export=view&id=1eQTEExQhIgi-2sEoCcyMELfKXACTrxAW)\n",
        "\n",
        "\n",
        "-------------------\n",
        "--------------------\n",
        "\n",
        "\n",
        "### Seeking *small* changes to $x$\n",
        "\n",
        "We seek *small* changes to $x$ to observe how $f$ behaves in the neighborhood of an input to gain information on what the decision boundary looks like in that area. \n",
        "Moreover, a very interesting property of CEs is that they prescribe a possible intervention that the user may actually want to pursue!\n",
        "Thus, we wish that the cost of intervention is small for the user. \n",
        "This means that $\\mathbf{x}^\\prime$ needs to be as close as possible to $\\mathbf{x}$, under some meaningful distance function $\\delta$ that captures the cost of intervention.\n",
        "\n",
        "\n",
        "---------------------------\n",
        "--------------------\n",
        "\n",
        "\n",
        "\n",
        "## Additional reading material\n",
        "An excellent and beginner-friendly starting point is the book by Christoph Molnar: \"Inteprable ML Book\".\n",
        "Here's a direct link to his chapter on CEs (co-written by Susanne Dandl): https://christophm.github.io/interpretable-ml-book/counterfactual.html\n",
        "\n",
        "\n",
        "\n",
        "\n",
        "---------------------------------\n",
        "--------------------------------\n",
        "\n",
        "\n",
        "## Note: CEs vs adversarial examples\n",
        "CEs are similar to adversarial examples (AEs). In both cases, one searches for changes to the input $x$ that trigger a change to the prediction made by $f$. However, CEs are intended to explain $f$ and not to fool it!"
      ],
      "metadata": {
        "id": "jkmdCrOSUiEp"
      }
    },
    {
      "cell_type": "markdown",
      "source": [
        "## Let's get started\n",
        "\n",
        "\n",
        "In this notebook we simulate a financial credit risk situation, in which a black-box model (we will be using a random forest) has been trained to tell which users are at high or low risk of default (i.e., become unable of paying back the credit given by the bank).\n",
        "We will then use a CE discovery algorithm to see how an user can change their (unfavorable) situation (i.e., $f(x)=\\text{high risk}$)."
      ],
      "metadata": {
        "id": "g1dP3XCbU631"
      }
    },
    {
      "cell_type": "markdown",
      "source": [
        "## Set up the Libraries required and set the random seed value"
      ],
      "metadata": {
        "id": "INobfThaVBoS"
      }
    },
    {
      "cell_type": "code",
      "execution_count": 1,
      "metadata": {
        "id": "k8vz0XKCUdIg"
      },
      "outputs": [],
      "source": [
        "import numpy as np   # numerical calculations\n",
        "import pandas as pd  # data handling\n",
        "\n",
        "\n",
        "# use sklearn for ML\n",
        "from sklearn.ensemble import RandomForestClassifier\n",
        "from sklearn.model_selection import train_test_split\n",
        "from sklearn.metrics import accuracy_score, balanced_accuracy_score\n",
        "\n",
        "\n",
        "SEED = 135\n",
        "np.random.seed(SEED)   # we set this to reproduce this result again"
      ]
    },
    {
      "cell_type": "markdown",
      "source": [
        "### Load data\n",
        "We load the data set **\"South German Credit\"**, which concerns learning a model of whether providing a financial credit to a user may be safe or risky.\n",
        "See [this](https://archive.ics.uci.edu/ml/datasets/South+German+Credit+%28UPDATE%29) for more info.\n",
        "\n",
        "We get this data from the repo of CoGS, a baseline algorithm for the discovery of CEs (more details later). "
      ],
      "metadata": {
        "id": "gl_Y4xhdVtRr"
      }
    },
    {
      "cell_type": "code",
      "source": [
        "# clone the mentioned repo, and install the repo\n",
        "!git clone https://github.com/marcovirgolin/cogs\n",
        "%cd /content/cogs\n",
        "!pip install ."
      ],
      "metadata": {
        "id": "YKXnt2SFVnqx"
      },
      "execution_count": null,
      "outputs": []
    },
    {
      "cell_type": "markdown",
      "source": [
        "Load the data and preprocess it a bit."
      ],
      "metadata": {
        "id": "ED7aBIiGZWhW"
      }
    },
    {
      "cell_type": "code",
      "source": [
        "# Load data set & do some pre-processing\n",
        "df = pd.read_csv(\"south_german_credit.csv\")\n",
        "df.drop(\"account_check_status\",axis=1,inplace=True)\n",
        "categorical_feature_names = ['purpose', 'personal_status_sex',\n",
        "    'other_debtors', 'other_installment_plans', 'telephone', 'foreign_worker']\n",
        "# Note: some other features are indices (categories in which the order matters), treated as numerical here for simplicity\n",
        "label_name = 'credit_risk'\n",
        "desired_class = 1 # this means \"low risk\"\n",
        "\n",
        "for feat in categorical_feature_names: # convert categorical features into integer codes\n",
        "    df[feat] = pd.Categorical(df[feat])\n",
        "    df[feat] = df[feat].cat.codes \n",
        "feature_names = list(df.columns)\n",
        "feature_names.remove(label_name)\n",
        "\n",
        "print(\"Num. features: {}, feature names: {}\".format(len(feature_names), feature_names))\n",
        "\n",
        "# Prepare data to be in numpy format, as typically used to train a scikit-learn model\n",
        "X = df[feature_names].to_numpy()\n",
        "y = df[label_name].to_numpy().astype(int)\n",
        "# Assume we have a specific train & test split\n",
        "X_train, X_test, y_train, y_test = train_test_split(X, y, test_size=0.1, random_state=SEED)"
      ],
      "metadata": {
        "colab": {
          "base_uri": "https://localhost:8080/"
        },
        "id": "LNb4n-THWAFo",
        "outputId": "8a573692-ccb1-4085-a32f-a5a615348ebc"
      },
      "execution_count": 6,
      "outputs": [
        {
          "output_type": "stream",
          "name": "stdout",
          "text": [
            "Num. features: 19, feature names: ['duration_in_month', 'credit_history', 'purpose', 'credit_amount', 'savings', 'present_emp_since', 'installment_as_income_perc', 'personal_status_sex', 'other_debtors', 'present_res_since', 'property', 'age', 'other_installment_plans', 'housing', 'credits_this_bank', 'job', 'people_under_maintenance', 'telephone', 'foreign_worker']\n"
          ]
        }
      ]
    },
    {
      "cell_type": "markdown",
      "source": [
        "### Train the model\n",
        "Here we train the model, but in a practical situation we may assume that the model has already been trained (and is, e.g., property of the bank that assesses to whether to award the credit or not).\n",
        "\n",
        "We use `random_forest` because it is quick and easy. However, you can use any model you like, such as a deep neural net. \n",
        "As classicly done in XAI litereature, we call this model a *black-box model*. "
      ],
      "metadata": {
        "id": "cBp-NAOjZal-"
      }
    },
    {
      "cell_type": "code",
      "source": [
        "# Train black-box model (bbm)\n",
        "bbm = RandomForestClassifier(random_state=SEED, class_weight=\"balanced\", min_samples_leaf=25)\n",
        "bbm.fit(X_train, y_train)\n",
        "# note: we do not one-hot encode multi-category features here for simplicity"
      ],
      "metadata": {
        "colab": {
          "base_uri": "https://localhost:8080/"
        },
        "id": "-9AwlQ3gWwMb",
        "outputId": "df82659c-c255-43ba-ee6a-887f844d07ce"
      },
      "execution_count": 7,
      "outputs": [
        {
          "output_type": "execute_result",
          "data": {
            "text/plain": [
              "RandomForestClassifier(class_weight='balanced', min_samples_leaf=25,\n",
              "                       random_state=135)"
            ]
          },
          "metadata": {},
          "execution_count": 7
        }
      ]
    },
    {
      "cell_type": "markdown",
      "source": [
        "Let's check that the model has a decent accuracy \n",
        "(Note: not really needed for the purpose of CEs)"
      ],
      "metadata": {
        "id": "MXaTKULBZg36"
      }
    },
    {
      "cell_type": "code",
      "source": [
        "print(\"acc:{:.3f}, bal.-acc:{:.3f}\".format(accuracy_score(y_test, bbm.predict(X_test)), balanced_accuracy_score(y_test, bbm.predict(X_test))))"
      ],
      "metadata": {
        "colab": {
          "base_uri": "https://localhost:8080/"
        },
        "id": "wmcWAnsxWx4t",
        "outputId": "b545eb30-1aaa-41c8-d950-bba0777b8b1d"
      },
      "execution_count": 8,
      "outputs": [
        {
          "output_type": "stream",
          "name": "stdout",
          "text": [
            "acc:0.670, bal.-acc:0.676\n"
          ]
        }
      ]
    },
    {
      "cell_type": "markdown",
      "source": [
        "### Pick the user\n",
        "Next, we simulate to have a user for whom the decision of the black-box model is the undesired one. \n",
        "For example, let's pick the last point in the test set for which the prediction is unfavourable."
      ],
      "metadata": {
        "id": "aK1oYRBiZjo4"
      }
    },
    {
      "cell_type": "code",
      "source": [
        "# Let's consider, e.g., the last test sample for which an undesired decision is given\n",
        "p = bbm.predict(X_test)\n",
        "idx = np.argwhere(p != desired_class).squeeze()[-1]\n",
        "x = X_test[idx] # this is our unhappy user!\n",
        "\n",
        "# show features of this user\n",
        "print(\"Description of x:\")\n",
        "for i, feat_name in enumerate(feature_names):\n",
        "  print(\" \", feat_name+\" \"*(30-len(feat_name)), x[i])"
      ],
      "metadata": {
        "colab": {
          "base_uri": "https://localhost:8080/"
        },
        "id": "NW1xZG-nWy3V",
        "outputId": "58f51c67-c1e6-49a0-d8e4-3b48b43555c2"
      },
      "execution_count": 9,
      "outputs": [
        {
          "output_type": "stream",
          "name": "stdout",
          "text": [
            "Description of x:\n",
            "  duration_in_month              6\n",
            "  credit_history                 0\n",
            "  purpose                        0\n",
            "  credit_amount                  1204\n",
            "  savings                        2\n",
            "  present_emp_since              3\n",
            "  installment_as_income_perc     4\n",
            "  personal_status_sex            2\n",
            "  other_debtors                  0\n",
            "  present_res_since              1\n",
            "  property                       4\n",
            "  age                            35\n",
            "  other_installment_plans        0\n",
            "  housing                        1\n",
            "  credits_this_bank              1\n",
            "  job                            3\n",
            "  people_under_maintenance       2\n",
            "  telephone                      0\n",
            "  foreign_worker                 0\n"
          ]
        }
      ]
    },
    {
      "cell_type": "markdown",
      "source": [
        "### CE discovery algorithm\n",
        "We use the library CoGS to find a CE.\n",
        "CoGS (Counterfactual Genetic Search) is a relatively quick to run and easy to use library that makes no assumptions on the black-box model $f$ (e.g., it does not require linearity nor gradients to work). \n",
        "Moreover, CoGS can handle both numerical and categorical features.\n"
      ],
      "metadata": {
        "id": "tiBzh2cwZnBn"
      }
    },
    {
      "cell_type": "markdown",
      "source": [
        "### Setting up the search space\n",
        "To set up the space in which CoGS searches, we must provide:\n",
        "1) Intervals within which the search takes place (for categorical features, which categories are possible)\n",
        "2) The indices of categorical features (for CoGS to know which are categorical and which are numerical)\n",
        "3) Optional plausibility constraints to ensure that the discovered CE can be realized (e.g., the age of a person cannot decrease)\n",
        "\n",
        "All of these three must be provided as lists that have the same order, in particular the order used to list the feature in `X_train` and `X_test`."
      ],
      "metadata": {
        "id": "UaNujTUfZpK4"
      }
    },
    {
      "cell_type": "code",
      "source": [
        "# Set up search bounds\n",
        "feature_intervals = list()\n",
        "for i, feat in enumerate(feature_names):\n",
        "  if feat in categorical_feature_names:\n",
        "    interval_i = np.unique(X_train[:,i])\n",
        "  else:\n",
        "    interval_i = (np.min(X_train[:,i]), np.max(X_train[:,i]))\n",
        "  feature_intervals.append(interval_i)\n",
        "\n",
        "# Set up which feature indices are categorical\n",
        "indices_categorical_features = [i for i, feat in enumerate(feature_names) if feat in categorical_feature_names]\n",
        "\n",
        "# Let's also set up a plausibility constraint for the feature \"age\" (can only increase)\n",
        "# and one for foreign worker (cannot change, must stay equal to what it is)\n",
        "pcs = ['>=' if feat=='age' else ('=' if feat=='foreign_worker' else None) for feat in feature_names]"
      ],
      "metadata": {
        "id": "gx_GNLgNW0Iz"
      },
      "execution_count": 10,
      "outputs": []
    },
    {
      "cell_type": "markdown",
      "source": [
        "## Hyper parameters\n",
        "We can now setup the hyper-parameters of CoGS, and then run the search!\n",
        "We put some comments to explain what they mean in the code below.\n",
        "\n",
        "As distance $\\delta$, here we use Gower's distance, which takes into account both numerical differences and categorical mismatches ,see [this](https://christophm.github.io/interpretable-ml-book/counterfactual.html#method-by-dandl-et-al.).\n",
        "\n",
        "-------\n",
        "\n",
        "\n",
        "In a genetic algorithm, the quality of solutions is measured in terms of *fitness*, where normally higher is better.\n",
        "Thus the fitness used here is set to be the opposite of Gower's distance."
      ],
      "metadata": {
        "id": "BD9QR_eGZr67"
      }
    },
    {
      "cell_type": "code",
      "source": [
        "from cogs.evolution import Evolution\n",
        "from cogs.fitness import gower_fitness_function\n",
        "\n",
        "cogs = Evolution(\n",
        "        ### hyper-parameters of the problem (required!) ###\n",
        "        x=x,  # the starting point aka unhappy user\n",
        "        fitness_function=gower_fitness_function,  # a classic fitness function for counterfactual explanations\n",
        "        fitness_function_kwargs={'blackbox':bbm,'desired_class': desired_class},  # these must be passed for the fitness function to work\n",
        "        feature_intervals=feature_intervals,  # intervals within which the search operates\n",
        "        indices_categorical_features=indices_categorical_features,  # the indices of the features that are categorical\n",
        "        plausibility_constraints=pcs, # can be \"None\" if no constraints need to be set\n",
        "        ### hyper-parameters of the evolution (all optional) ###\n",
        "        evolution_type='classic',       # the type of evolution, classic works quite  well\n",
        "        population_size=1000,           # how many candidate counterfactual examples to evolve simultaneously\n",
        "        n_generations=25,               # number of iterations for the evolution\n",
        "        selection_name='tournament_4',  # selection pressure\n",
        "        init_temperature=0.8, # how \"far\" from x we initialize\n",
        "        num_features_mutation_strength=0.25, # strength of random mutations for numerical features\n",
        "        num_features_mutation_strength_decay=0.5, # decay for the hyper-param. above\n",
        "        num_features_mutation_strength_decay_generations=[10,15,20], # when to apply the decay\n",
        "        ### other settings ###\n",
        "        verbose=True  # logs progress at every generation \n",
        ")"
      ],
      "metadata": {
        "id": "85O8tMWEW13P"
      },
      "execution_count": 11,
      "outputs": []
    },
    {
      "cell_type": "markdown",
      "source": [
        "🏃"
      ],
      "metadata": {
        "id": "-mzt6c48Z07m"
      }
    },
    {
      "cell_type": "code",
      "source": [
        "cogs.run()"
      ],
      "metadata": {
        "colab": {
          "base_uri": "https://localhost:8080/"
        },
        "id": "6XYDVupTW3Qk",
        "outputId": "91fa6120-322c-467e-bb41-9562224ce17a"
      },
      "execution_count": 12,
      "outputs": [
        {
          "output_type": "stream",
          "name": "stdout",
          "text": [
            "generation: 1 best fitness: -0.2396228206008183 avg. fitness: -0.6730473827620418\n",
            "generation: 2 best fitness: -0.2396228206008183 avg. fitness: -0.45820597393016405\n",
            "generation: 3 best fitness: -0.2396228206008183 avg. fitness: -0.4011106472660075\n",
            "generation: 4 best fitness: -0.22754762910530613 avg. fitness: -0.34520111096264683\n",
            "generation: 5 best fitness: -0.1470669616557555 avg. fitness: -0.29425159612096013\n",
            "generation: 6 best fitness: -0.14065937232592834 avg. fitness: -0.25342080548999935\n",
            "generation: 7 best fitness: -0.10759722193658999 avg. fitness: -0.21507342631622414\n",
            "generation: 8 best fitness: -0.09987989964764468 avg. fitness: -0.18177387222206162\n",
            "generation: 9 best fitness: -0.07570383688339692 avg. fitness: -0.14952872918991617\n",
            "generation: 10 best fitness: -0.06746061714537081 avg. fitness: -0.12662933869575957\n",
            "generation: 11 best fitness: -0.04942280129404737 avg. fitness: -0.10802405368291662\n",
            "generation: 12 best fitness: -0.04942280129404737 avg. fitness: -0.09766672051975704\n",
            "generation: 13 best fitness: -0.04942280129404737 avg. fitness: -0.0883290895125242\n",
            "generation: 14 best fitness: -0.04939950231300769 avg. fitness: -0.07974423136957719\n",
            "generation: 15 best fitness: -0.04939950231300769 avg. fitness: -0.07495510016461426\n",
            "generation: 16 best fitness: -0.04939950231300769 avg. fitness: -0.07126832177271841\n",
            "generation: 17 best fitness: -0.04939950231300769 avg. fitness: -0.0668061039099548\n",
            "generation: 18 best fitness: -0.04939950231300769 avg. fitness: -0.0622962082494863\n",
            "generation: 19 best fitness: -0.04939950231300769 avg. fitness: -0.05817896858829121\n",
            "generation: 20 best fitness: -0.04939950231300769 avg. fitness: -0.053950123011541264\n",
            "generation: 21 best fitness: -0.049371867422045815 avg. fitness: -0.051862050801516756\n",
            "generation: 22 best fitness: -0.049371867422045815 avg. fitness: -0.05113924389799247\n",
            "generation: 23 best fitness: -0.049355549880378755 avg. fitness: -0.050667052341669336\n",
            "generation: 24 best fitness: -0.049355549880378755 avg. fitness: -0.0508542445589829\n",
            "generation: 25 best fitness: -0.049355549880378755 avg. fitness: -0.05047305959426248\n"
          ]
        }
      ]
    },
    {
      "cell_type": "markdown",
      "source": [
        "## Counterfactual explanation\n",
        "Now that CoGS has terminated, we can look at its result.\n",
        "The field `cogs.elite` contains the best-found counterfactual example, i.e., a point `x'` for which `bbm(x')=desired_class`.\n",
        "The respective counterfactual explanation is simply `x'-x` (there exist more involved definitions of counterfactual explanations, here we use this simple one).\n",
        "Let's take a look at what the user needs to do to obtain the desired class, i.e., be granted the loan."
      ],
      "metadata": {
        "id": "ziPOJLDEZ40t"
      }
    },
    {
      "cell_type": "code",
      "source": [
        "from pandas.core.arrays import categorical\n",
        "# Get the best-found counterfactual example (called elite)\n",
        "cf_example = cogs.elite\n",
        "cf_explanation = cogs.elite - x\n",
        "\n",
        "# Show counterfactual explanation\n",
        "if bbm.predict([cf_example])[0] == desired_class:\n",
        "  print(\"Success! Here's the explanation:\")\n",
        "  for i, feat in enumerate(feature_names):\n",
        "    if cf_explanation[i] != 0:\n",
        "      print(\" Feature '{}' should change from '{}' to '{}'\".format(feat, np.round(x[i],3), np.round(cf_example[i],3)))\n",
        "else:\n",
        "  print(\"Failed to find a counterfactual explanation for the desired class :(\")"
      ],
      "metadata": {
        "colab": {
          "base_uri": "https://localhost:8080/"
        },
        "id": "XtYA-bnaW5C-",
        "outputId": "d9a3fb49-58d7-4354-f40f-c831a6b7e63b"
      },
      "execution_count": 13,
      "outputs": [
        {
          "output_type": "stream",
          "name": "stdout",
          "text": [
            "Success! Here's the explanation:\n",
            " Feature 'credit_history' should change from '0' to '3.502'\n"
          ]
        }
      ]
    }
  ]
}