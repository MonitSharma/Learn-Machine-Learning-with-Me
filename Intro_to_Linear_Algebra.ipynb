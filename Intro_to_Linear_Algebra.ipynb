{
  "cells": [
    {
      "cell_type": "markdown",
      "metadata": {
        "id": "view-in-github",
        "colab_type": "text"
      },
      "source": [
        "<a href=\"https://colab.research.google.com/github/MonitSharma/Learn-Machine-Learning-with-Me/blob/main/Intro_to_Linear_Algebra.ipynb\" target=\"_parent\"><img src=\"https://colab.research.google.com/assets/colab-badge.svg\" alt=\"Open In Colab\"/></a>"
      ]
    },
    {
      "cell_type": "markdown",
      "metadata": {
        "id": "UHD2MCFlYGpf"
      },
      "source": [
        "# Intro to Linear Algebra - Inverse\n",
        "\n",
        "\n",
        "-------------------\n",
        "\n",
        "\n",
        "### Key Equation:\n",
        " $$Ax =b ~~ \\text{for} ~~ n \\times n $$\n",
        "\n",
        "\n",
        "The starting linear algebra problem is solving - `n` linear equation, with `n` unknowns\n",
        "\n",
        "-----------------\n",
        "\n",
        "# $2 \\times 2$ **Equation**\n",
        "\n",
        "-------\n",
        "\n",
        "\n",
        "Let us start with the most simple one - $2$ linear equations, with $2$ unknown.\n",
        "\n",
        "$$ x + 3y = 15 $$\n",
        "$$ 2x - y = 2 $$\n",
        "\n",
        "\n",
        "\n",
        "------------\n",
        "\n",
        "## **Algebraic** $(2 \\times 2)$\n",
        "\n",
        "It's easy to solve the equation.\n",
        "\n",
        "$$ x + 3y = 15 ~~~~ \\space (Eq. \\ 1)$$\n",
        "$$ 2x - y = 2 ~~~~ \\space (Eq. \\ 2)$$\n",
        "\n",
        "### $E_1$ **Elimination** \n",
        "We keep the first equation as it is and we elminate `x` from the second equation. \n",
        "\n",
        "To do that we multiply the first equation by 2 and subtract from the first equation i.e. $Eq. \\ 2 - 2* Eq. \\ 1$ \n",
        "\n",
        "$$ x + 3y = 15  ~~~~ \\space (Eq. \\ 1) $$ \n",
        "$$  -7y = -28  ~~~~ \\space (Eq. \\ 3)$$\n",
        "\n",
        "-----------\n",
        "-------------\n",
        "\n",
        "## $E_2$ **Elimination**\n",
        "\n",
        "Now we do back elimination and we eliminate `y` from the first equation. \n",
        "\n",
        "We  divide the the third equation by -7 i.e. $Eq. \\ 3 / -7 $ And we multiply the third equation by 3/7 and add it to the first equation i.e. $eq3 * 3 /7 + eq1$. \n",
        "\n",
        "$$ x = 3  ~~~~ \\space (Eq. \\ 4) $$ \n",
        "$$  y = 4  ~~~~ \\space (Eq. \\ 5)$$\n",
        "\n",
        "And there is our answer.\n",
        "\n",
        "\n",
        "\n",
        "\n",
        "-----------------------------\n",
        "----------------------------\n",
        "This is a simplified representation of the **Gauss-Jordan Elimination**"
      ]
    },
    {
      "cell_type": "markdown",
      "metadata": {
        "id": "JnQVUvvzYGpv"
      },
      "source": [
        "## Row-wise / Lines (2 x 2)\n",
        "Let us solve this the traditional way by thinking of them as row wise and solving it. We can plot each of these queations and see where they intersect.\n",
        "\n",
        "$$ x + 3y = 15 ~~~~ \\textit{(row 1) }$$\n",
        "$$ 2x - y = 2  ~~~~ \\textit{(row 2) }$$"
      ]
    },
    {
      "cell_type": "markdown",
      "source": [
        "-----------------------\n",
        "\n",
        "Importing basic Libraries."
      ],
      "metadata": {
        "id": "-RXUNIARjdNJ"
      }
    },
    {
      "cell_type": "code",
      "execution_count": 1,
      "metadata": {
        "collapsed": true,
        "id": "JXXI_vBWYGpy"
      },
      "outputs": [],
      "source": [
        "import numpy as np"
      ]
    },
    {
      "cell_type": "code",
      "execution_count": 2,
      "metadata": {
        "collapsed": true,
        "id": "hzTKl0cSYGp5"
      },
      "outputs": [],
      "source": [
        "import matplotlib.pyplot as plt\n",
        "%matplotlib inline\n",
        "plt.style.use('fivethirtyeight')  # plotting style\n",
        "plt.rcParams['figure.figsize'] = (10, 6)"
      ]
    },
    {
      "cell_type": "markdown",
      "source": [
        "Plotting the equations."
      ],
      "metadata": {
        "id": "KvyeXj1NjlCg"
      }
    },
    {
      "cell_type": "code",
      "execution_count": 3,
      "metadata": {
        "colab": {
          "base_uri": "https://localhost:8080/",
          "height": 437
        },
        "id": "2ZYHTzwFYGqD",
        "outputId": "b97039ae-d480-48b4-f537-5ab932dfedec"
      },
      "outputs": [
        {
          "output_type": "execute_result",
          "data": {
            "text/plain": [
              "Text(0, 0.5, 'y')"
            ]
          },
          "metadata": {},
          "execution_count": 3
        },
        {
          "output_type": "display_data",
          "data": {
            "text/plain": [
              "<Figure size 720x432 with 1 Axes>"
            ],
            "image/png": "[encoded data removed]"
          },
          "metadata": {}
        }
      ],
      "source": [
        "x = np.arange(-10, 10, 1)\n",
        "\n",
        "y1 = (15 - x)/3\n",
        "y2 = (2 - 2*x)/-1\n",
        "\n",
        "plt.plot(x, y1)\n",
        "plt.text(x[-1], y1[-1], 'row1')\n",
        "\n",
        "plt.plot(x, y2)\n",
        "plt.text(x[-1], y2[-1], 'row2')\n",
        "\n",
        "plt.axhline(0, color='grey', linewidth=1)\n",
        "plt.axvline(0, color='grey', linewidth=1)\n",
        "\n",
        "plt.xlabel('x')\n",
        "plt.ylabel('y')"
      ]
    },
    {
      "cell_type": "markdown",
      "metadata": {
        "id": "hhLyKBH6YGqK"
      },
      "source": [
        "## Column-wise  / Vectors $(2\\times2)$\n",
        "\n",
        "We can also solve this equation in a vector way, by thinking of this as linear combination of two vectors\n",
        "\n",
        "$$ \\begin{bmatrix}1 \\\\ 2\\end{bmatrix} x + \\begin{bmatrix}3 \\\\ -1\\end{bmatrix} y = \\begin{bmatrix}15 \\\\ 2\\end{bmatrix} $$\n",
        "\n",
        "Now we need to draw these vectors and see the result."
      ]
    },
    {
      "cell_type": "code",
      "execution_count": 4,
      "metadata": {
        "collapsed": true,
        "id": "Y2Ua87gvYGqR"
      },
      "outputs": [],
      "source": [
        "# All the vectors start at 0, 0 \n",
        "vX1 = np.array([0,0,1,2])\n",
        "vY1 = np.array([0,0,3,-1])\n",
        "b = np.array([0,0,15,2])"
      ]
    },
    {
      "cell_type": "code",
      "execution_count": 5,
      "metadata": {
        "collapsed": true,
        "id": "FMVtP_1dYGqS"
      },
      "outputs": [],
      "source": [
        "vector1 = [vX1, vY1, b]"
      ]
    },
    {
      "cell_type": "code",
      "execution_count": 6,
      "metadata": {
        "collapsed": true,
        "id": "y353qqdTYGqU"
      },
      "outputs": [],
      "source": [
        "X,Y,U,V = zip(*vector1)"
      ]
    },
    {
      "cell_type": "code",
      "execution_count": 7,
      "metadata": {
        "colab": {
          "base_uri": "https://localhost:8080/"
        },
        "id": "9dgO_35AYGqW",
        "outputId": "7da38058-b389-4925-f97a-f851b30dbf46"
      },
      "outputs": [
        {
          "output_type": "execute_result",
          "data": {
            "text/plain": [
              "((0, 0, 0), (0, 0, 0), (1, 3, 15), (2, -1, 2))"
            ]
          },
          "metadata": {},
          "execution_count": 7
        }
      ],
      "source": [
        "X,Y,U,V "
      ]
    },
    {
      "cell_type": "code",
      "execution_count": 8,
      "metadata": {
        "collapsed": true,
        "id": "c6nIcV0pYGqY"
      },
      "outputs": [],
      "source": [
        "def vector_plot (vector):\n",
        "    X,Y,U,V = zip(*vector)\n",
        "    C = [1,2,3]\n",
        "    plt.figure()\n",
        "    ax = plt.gca()\n",
        "    ax.quiver(X,Y,U,V,C, angles='xy',scale_units='xy',scale=1)\n",
        "    ax.set_xlim([-15,15])\n",
        "    ax.set_ylim([-9,9])\n",
        "    plt.axhline(0, color='grey', linewidth=1)\n",
        "    plt.axvline(0, color='grey', linewidth=1)\n",
        "    plt.axes().set_aspect('equal')"
      ]
    },
    {
      "cell_type": "code",
      "execution_count": 9,
      "metadata": {
        "colab": {
          "base_uri": "https://localhost:8080/",
          "height": 453
        },
        "id": "sQQ6ow4wYGqa",
        "outputId": "1a71eb3e-d594-48e2-de4b-822903eb6b95"
      },
      "outputs": [
        {
          "output_type": "stream",
          "name": "stderr",
          "text": [
            "/usr/local/lib/python3.7/dist-packages/ipykernel_launcher.py:11: MatplotlibDeprecationWarning: Adding an axes using the same arguments as a previous axes currently reuses the earlier instance.  In a future version, a new instance will always be created and returned.  Meanwhile, this warning can be suppressed, and the future behavior ensured, by passing a unique label to each axes instance.\n",
            "  # This is added back by InteractiveShellApp.init_path()\n"
          ]
        },
        {
          "output_type": "display_data",
          "data": {
            "text/plain": [
              "<Figure size 720x432 with 1 Axes>"
            ],
            "image/png": "[encoded data removed]"
          },
          "metadata": {}
        }
      ],
      "source": [
        "vector_plot(vector1)"
      ]
    },
    {
      "cell_type": "markdown",
      "metadata": {
        "id": "cf-SA3m9YGqc"
      },
      "source": [
        "Now we know the answer to this is a linear combination of the two vectors. So we multiply the first vector by 3 and the second vector by 4 and add the two"
      ]
    },
    {
      "cell_type": "code",
      "execution_count": 10,
      "metadata": {
        "collapsed": true,
        "id": "dv3VG9Z-YGqe"
      },
      "outputs": [],
      "source": [
        "# VX1 vectors start at (0, 0), while VY2 starts at the end of VX1\n",
        "vX2 = np.array([0,0,3,6])\n",
        "vY2 = np.array([3,6,12,-4])\n",
        "b = np.array([0,0,15,2])"
      ]
    },
    {
      "cell_type": "code",
      "execution_count": 11,
      "metadata": {
        "collapsed": true,
        "id": "qnVRs-8jYGqg"
      },
      "outputs": [],
      "source": [
        "vector2 = [vX2, vY2, b]"
      ]
    },
    {
      "cell_type": "code",
      "execution_count": 12,
      "metadata": {
        "colab": {
          "base_uri": "https://localhost:8080/",
          "height": 453
        },
        "id": "No912mTzYGqk",
        "outputId": "ad81d625-00b5-4064-a8a8-a3e2f5725822"
      },
      "outputs": [
        {
          "output_type": "stream",
          "name": "stderr",
          "text": [
            "/usr/local/lib/python3.7/dist-packages/ipykernel_launcher.py:11: MatplotlibDeprecationWarning: Adding an axes using the same arguments as a previous axes currently reuses the earlier instance.  In a future version, a new instance will always be created and returned.  Meanwhile, this warning can be suppressed, and the future behavior ensured, by passing a unique label to each axes instance.\n",
            "  # This is added back by InteractiveShellApp.init_path()\n"
          ]
        },
        {
          "output_type": "display_data",
          "data": {
            "text/plain": [
              "<Figure size 720x432 with 1 Axes>"
            ],
            "image/png": "[encoded data removed]"
          },
          "metadata": {}
        }
      ],
      "source": [
        "vector_plot(vector2)"
      ]
    },
    {
      "cell_type": "markdown",
      "metadata": {
        "id": "0NBhni4bYGql"
      },
      "source": [
        "## Matrix Way $(2 \\times 2)$ - Using Elimination\n",
        "\n",
        "Now our $2$ variable, $2$ equation problem is:\n",
        "\n",
        "$$ x + 3y = 15 ~~~~ \\space (Eq. \\ 1)$$\n",
        "$$ 2x - y = 2 ~~~~ \\space (Eq. \\ 2)$$\n",
        "\n",
        "We can write this in a matrix way as:\n",
        "\n",
        "$$ \\begin{bmatrix}1x & 3y\\\\ 2x & -1y\\end{bmatrix} = \\begin{bmatrix}15 \\\\ 2\\end{bmatrix} $$\n",
        "\n",
        "However, to generalize it is better to write it in the form:\n",
        "\n",
        "$$ Ax = b $$\n",
        "\n",
        "$$ \\begin{bmatrix}1 & 3\\\\ 2 & -1\\end{bmatrix} \\begin{bmatrix}x \\\\ y\\end{bmatrix} = \\begin{bmatrix}15 \\\\ 2\\end{bmatrix} $$\n",
        "\n"
      ]
    },
    {
      "cell_type": "markdown",
      "metadata": {
        "collapsed": true,
        "id": "Dcm8LIHnYGqo"
      },
      "source": [
        "--------------------------------\n",
        "--------------------------------------------\n",
        "\n",
        "Now we can solve this using elimination as we did earlier in the algebraic formulation\n",
        "\n",
        "### $E_1$ **Elimination**\n",
        "To remove `x` from the second equation matrix, we write our first slimination matrix\n",
        "\n",
        "$$ E_{1} = \\begin{bmatrix}1 & 0\\\\ -2 & 1\\end{bmatrix} $$\n",
        "\n",
        "So, we multiply $E_{1}$ to both sides.\n",
        "\n",
        "$$ E_{1}Ax = E_{1}b $$\n",
        "\n",
        "So our new equation is now:\n",
        "\n",
        "$$ \\begin{bmatrix}1 & 0\\\\ -2 & 1\\end{bmatrix} \\begin{bmatrix}1 & 3\\\\ 2 & -1\\end{bmatrix} \\begin{bmatrix}x \\\\ y\\end{bmatrix} = \\begin{bmatrix}1 & 0\\\\ -2 & 1\\end{bmatrix} \\begin{bmatrix}15 \\\\ 2\\end{bmatrix} $$\n",
        "\n",
        "This can be reduced by matrix-multiplication to:\n",
        "\n",
        "$$ \\begin{bmatrix}1 & 3\\\\ 0 & -7\\end{bmatrix} \\begin{bmatrix}x \\\\ y\\end{bmatrix} = \\begin{bmatrix}15 \\\\ -28\\end{bmatrix} $$\n",
        "\n",
        "which is now same as what we got after E1 elimination in algebraic formulation\n",
        "\n",
        "$$ x + 3y = 15  ~~~~ \\space (Eq. \\ 1) $$ \n",
        "$$  -7y = -28  ~~~~ \\space (Eq. \\ 3)$$"
      ]
    },
    {
      "cell_type": "markdown",
      "metadata": {
        "id": "rrZWcEwLYGqq"
      },
      "source": [
        "### $E_2$ **Elimination**\n",
        "To remove `y` from the first equation matrix, we write our second slimination matrix\n",
        "\n",
        "$$ E_{2} = \\begin{bmatrix}1 & 3/7\\\\ 0 & -1/7\\end{bmatrix} $$\n",
        "\n",
        "So, we multiply $E_{2}$ to both sides.\n",
        "\n",
        "$$ E_{2}E_{1}Ax = E_{2}E_{1}b $$\n",
        "\n",
        "So our new equation is now:\n",
        "\n",
        "$$ \\begin{bmatrix}1 & 3/7\\\\ 0 & -1/7\\end{bmatrix} \\begin{bmatrix}1 & 3\\\\ 0 & -7\\end{bmatrix} \\begin{bmatrix}x \\\\ y\\end{bmatrix} = \\begin{bmatrix}1 & 3/7\\\\ 0 & -1/7\\end{bmatrix} \\begin{bmatrix}15 \\\\ -28\\end{bmatrix} $$\n",
        "\n",
        "---------------\n",
        "-----------------------\n",
        "\n",
        "This can be reduced by matrix-multiplication to:\n",
        "\n",
        "\n",
        "$$ \\begin{bmatrix}1 & 0\\\\ 0 & 1\\end{bmatrix} \\begin{bmatrix}x \\\\ y\\end{bmatrix} = \\begin{bmatrix}3 \\\\ 4\\end{bmatrix} $$\n",
        "\n",
        "Which is our answer \n",
        "$$ x = 3  ~~~~ \\space (Eq. \\ 4) $$ \n",
        "$$  y = 4  ~~~~ \\space (Eq. \\ 5)$$\n"
      ]
    },
    {
      "cell_type": "code",
      "execution_count": 13,
      "metadata": {
        "collapsed": true,
        "id": "wF9a_lLzYGqu"
      },
      "outputs": [],
      "source": [
        "from fractions import Fraction\n",
        "A = np.matrix([[1,3],\n",
        "               [2,-1]])\n",
        "\n",
        "b = np.matrix([[15],\n",
        "               [2]])\n",
        "\n",
        "E1 = np.matrix([[1,0],\n",
        "                [-2,1]])\n",
        "\n",
        "E2 = np.matrix([[Fraction (1,1),Fraction(3, 7)],\n",
        "                [Fraction(0,1),Fraction(-1, 7)]])"
      ]
    },
    {
      "cell_type": "code",
      "execution_count": 14,
      "metadata": {
        "colab": {
          "base_uri": "https://localhost:8080/"
        },
        "id": "6KOULPh9YGqw",
        "outputId": "efa65c0f-685a-42db-eb0f-55d04a9dca74"
      },
      "outputs": [
        {
          "output_type": "execute_result",
          "data": {
            "text/plain": [
              "matrix([[ 1,  3],\n",
              "        [ 2, -1]])"
            ]
          },
          "metadata": {},
          "execution_count": 14
        }
      ],
      "source": [
        "A"
      ]
    },
    {
      "cell_type": "code",
      "execution_count": 15,
      "metadata": {
        "colab": {
          "base_uri": "https://localhost:8080/"
        },
        "id": "_3Yg2aCHYGqz",
        "outputId": "9c918e94-a494-4418-abbc-db19494e41ef"
      },
      "outputs": [
        {
          "output_type": "execute_result",
          "data": {
            "text/plain": [
              "matrix([[ 1,  0],\n",
              "        [-2,  1]])"
            ]
          },
          "metadata": {},
          "execution_count": 15
        }
      ],
      "source": [
        "E1"
      ]
    },
    {
      "cell_type": "code",
      "execution_count": 16,
      "metadata": {
        "colab": {
          "base_uri": "https://localhost:8080/"
        },
        "id": "QSJgpICyYGq3",
        "outputId": "ec84888c-b47c-4315-9e6f-cf4680fab0fe"
      },
      "outputs": [
        {
          "output_type": "execute_result",
          "data": {
            "text/plain": [
              "matrix([[ 1,  3],\n",
              "        [ 0, -7]])"
            ]
          },
          "metadata": {},
          "execution_count": 16
        }
      ],
      "source": [
        "E1*A"
      ]
    },
    {
      "cell_type": "code",
      "execution_count": 17,
      "metadata": {
        "colab": {
          "base_uri": "https://localhost:8080/"
        },
        "id": "kObPjH7fYGq6",
        "outputId": "9719de27-240f-465c-958b-349475d3c84d"
      },
      "outputs": [
        {
          "output_type": "execute_result",
          "data": {
            "text/plain": [
              "matrix([[Fraction(1, 1), Fraction(0, 1)],\n",
              "        [Fraction(0, 1), Fraction(1, 1)]], dtype=object)"
            ]
          },
          "metadata": {},
          "execution_count": 17
        }
      ],
      "source": [
        "E2*E1*A"
      ]
    },
    {
      "cell_type": "code",
      "execution_count": 18,
      "metadata": {
        "colab": {
          "base_uri": "https://localhost:8080/"
        },
        "id": "p-ucrCl3YGq8",
        "outputId": "9c86b75d-45d0-46fd-add3-be2b7c534482"
      },
      "outputs": [
        {
          "output_type": "execute_result",
          "data": {
            "text/plain": [
              "matrix([[Fraction(3, 1)],\n",
              "        [Fraction(4, 1)]], dtype=object)"
            ]
          },
          "metadata": {},
          "execution_count": 18
        }
      ],
      "source": [
        "E2*E1*b"
      ]
    },
    {
      "cell_type": "markdown",
      "metadata": {
        "id": "HIahF73pYGrD"
      },
      "source": [
        "## Matrix Way $(2 \\times 2)$ - Using Inverse\n",
        "\n",
        "Now our $2$ variable, $2$ equation problem is:\n",
        "\n",
        "$$ x + 3y = 15 ~~~~ \\space (Eq. \\ 1)$$\n",
        "$$ 2x - y = 2 ~~~~ \\space (Eq. \\ 2)$$\n",
        "\n",
        "Now we know from the previous working that:\n",
        "\n",
        "$$ E_{2}E_{1}Ax = E_{2}E_{1}b $$\n",
        "\n",
        "and that I can change the brackets in my multiplication:\n",
        "\n",
        "$$ E_{2}(E_{1}A) = (E_{2}E_{1})A $$\n",
        "\n",
        "So I can first compute $E_{2}*E_{1}$ :\n",
        "$$ E_{2}E_{1} =\\begin{bmatrix}1 & 3/7\\\\ 0 & -1/7\\end{bmatrix} \\begin{bmatrix}1 & 0\\\\ -2 & 1\\end{bmatrix} = \\begin{bmatrix}1/7 & 3/7\\\\ 2/7 & -1/7\\end{bmatrix} $$\n",
        "\n",
        "And I know that \n",
        "\n",
        "$$ (E_{2}E_{1})A = I $$\n",
        "\n",
        "$$ \\begin{bmatrix}1/7 & 3/7\\\\ 2/7 & -1/7\\end{bmatrix} \\begin{bmatrix}1 & 3\\\\ 2 & -1\\end{bmatrix} = \\begin{bmatrix}1 & 0\\\\ 0 & 1\\end{bmatrix} $$\n",
        "\n",
        "--------------\n",
        "So now instead of calculating Elimination matrix, we need to just calculate $A^{-1}$ which when multiplied by $A$ gives the identity matrix - $I$\n",
        "\n",
        "$$ A^{-1}A = I $$\n",
        "\n",
        "$$ A^{-1} = \\begin{bmatrix}1/7 & 3/7\\\\ 2/7 & -1/7\\end{bmatrix} $$\n",
        "\n",
        "Hence it follows that\n",
        "\n",
        "$$ A^{-1}Ax = A^{-1}b $$\n",
        "\n",
        "$$ Ix = A^{-1}b $$\n",
        "\n",
        "$$ x = A^{-1}b $$\n",
        "\n",
        "--------------\n",
        "\n",
        "So we can calcuate $x$ easily once we know $A^{-1}$\n",
        "\n",
        "$$ \\begin{bmatrix}x \\\\ y\\end{bmatrix} = \\begin{bmatrix}1/7 & 3/7\\\\ 2/7 & -1/7\\end{bmatrix} \\begin{bmatrix}15\\\\ 2\\end{bmatrix}  = \\begin{bmatrix} 3 \\\\ 4 \\end{bmatrix}$$\n",
        "\n",
        "\n",
        "\n",
        "\n",
        "\n",
        "\n",
        "\n",
        "\n",
        "\n",
        "\n"
      ]
    },
    {
      "cell_type": "code",
      "execution_count": 19,
      "metadata": {
        "colab": {
          "base_uri": "https://localhost:8080/"
        },
        "id": "MXxQvmnmYGrG",
        "outputId": "f65deee6-c808-4c9c-9340-5234ca3feedc"
      },
      "outputs": [
        {
          "output_type": "execute_result",
          "data": {
            "text/plain": [
              "matrix([[Fraction(1, 7), Fraction(3, 7)],\n",
              "        [Fraction(2, 7), Fraction(-1, 7)]], dtype=object)"
            ]
          },
          "metadata": {},
          "execution_count": 19
        }
      ],
      "source": [
        "E2*E1"
      ]
    },
    {
      "cell_type": "code",
      "execution_count": 20,
      "metadata": {
        "collapsed": true,
        "id": "lfR4B3uHYGrI"
      },
      "outputs": [],
      "source": [
        "Ainv = np.linalg.inv(A)"
      ]
    },
    {
      "cell_type": "code",
      "execution_count": 21,
      "metadata": {
        "colab": {
          "base_uri": "https://localhost:8080/"
        },
        "id": "Z-XMZ0LiYGrK",
        "outputId": "fa3df620-adbd-4056-d71f-1faac79ebfc5"
      },
      "outputs": [
        {
          "output_type": "execute_result",
          "data": {
            "text/plain": [
              "matrix([[ 0.14285714,  0.42857143],\n",
              "        [ 0.28571429, -0.14285714]])"
            ]
          },
          "metadata": {},
          "execution_count": 21
        }
      ],
      "source": [
        "Ainv"
      ]
    },
    {
      "cell_type": "code",
      "execution_count": 22,
      "metadata": {
        "colab": {
          "base_uri": "https://localhost:8080/"
        },
        "id": "B6nCIsBPYGrL",
        "outputId": "c448fe18-49ac-4002-f363-a4b5a1158e01"
      },
      "outputs": [
        {
          "output_type": "execute_result",
          "data": {
            "text/plain": [
              "matrix([[3.],\n",
              "        [4.]])"
            ]
          },
          "metadata": {},
          "execution_count": 22
        }
      ],
      "source": [
        "Ainv * b"
      ]
    },
    {
      "cell_type": "markdown",
      "metadata": {
        "id": "YHH79KSfYGrN"
      },
      "source": [
        "# $3 \\times 3$ **Equation**\n",
        "\n",
        "Let take a more involved example - $3$ linear equations, with $3$ unknown.\n",
        "\n",
        "$$ x + y + z = 3 $$\n",
        "$$ 3x + 8y + z = 12 $$\n",
        "$$ 5x - 4y + 3z = 4 $$\n",
        "\n",
        "Parallel\n",
        "$$ 4x + 9y + 2z = 15 $$\n",
        "\n"
      ]
    },
    {
      "cell_type": "markdown",
      "metadata": {
        "id": "xFGyjTrpYGrZ"
      },
      "source": [
        "## Algebraic $(3 \\times 3)$\n",
        "\n",
        "\n",
        "Now it is easy to solve the equation and get the answer\n",
        "\n",
        "$$ x = 1, y = 1, z = 1 $$"
      ]
    },
    {
      "cell_type": "markdown",
      "metadata": {
        "id": "NXsVHmagYGrb"
      },
      "source": [
        "## Row-wise / Planes $(3 \\times 3)$"
      ]
    },
    {
      "cell_type": "code",
      "execution_count": 23,
      "metadata": {
        "colab": {
          "base_uri": "https://localhost:8080/",
          "height": 398
        },
        "id": "rRSVkJCDYGrc",
        "outputId": "a20aaf25-1202-47d5-9720-c69995b75182"
      },
      "outputs": [
        {
          "output_type": "execute_result",
          "data": {
            "text/plain": [
              "Text(0.5, 0, 'z')"
            ]
          },
          "metadata": {},
          "execution_count": 23
        },
        {
          "output_type": "display_data",
          "data": {
            "text/plain": [
              "<Figure size 720x432 with 1 Axes>"
            ],
            "image/png": "[encoded data removed]"
          },
          "metadata": {}
        }
      ],
      "source": [
        "from mpl_toolkits.mplot3d import Axes3D\n",
        "xrange = np.arange(-10, 10, 1)\n",
        "yrange = np.arange(-10, 10, 1)\n",
        "x, y = np.meshgrid(xrange, yrange)\n",
        "\n",
        "z1 = 3 - x - y\n",
        "z2 = 12 - 3*x - 8*y\n",
        "z3 = (15  - 4*x -9 *y)/(2)\n",
        "\n",
        "plt3d = plt.figure().gca(projection='3d')\n",
        "\n",
        "plt3d.plot_surface(x,y,z1, color='blue', alpha = 0.4)\n",
        "plt3d.plot_surface(x,y,z2, color='red', alpha = 0.4)\n",
        "plt3d.plot_surface(x,y,z3, color='green', alpha = 0.4)\n",
        "\n",
        "plt3d.set_xlabel('x')\n",
        "plt3d.set_ylabel('y')\n",
        "plt3d.set_zlabel('z')"
      ]
    },
    {
      "cell_type": "markdown",
      "metadata": {
        "id": "UinbHHQzYGrf"
      },
      "source": [
        "## Column-wise  / Vectors $(3 \\times 3)$\n",
        "\n",
        "$$ \\begin{bmatrix}1 \\\\ 3 \\\\ 5\\end{bmatrix} x + \\begin{bmatrix}1 \\\\ 8 \\\\ -4\\end{bmatrix} y + \\begin{bmatrix}1 \\\\ 1 \\\\ 3\\end{bmatrix} z = \\begin{bmatrix}3 \\\\ 12 \\\\ 4 \\end{bmatrix} $$\n",
        "\n",
        "Now we need to draw these vectors and see the result"
      ]
    },
    {
      "cell_type": "code",
      "execution_count": 24,
      "metadata": {
        "colab": {
          "base_uri": "https://localhost:8080/",
          "height": 381
        },
        "id": "dwMMSBQTYGrh",
        "outputId": "3e4c5c80-0c9d-4158-bc3b-2620291acca2"
      },
      "outputs": [
        {
          "output_type": "display_data",
          "data": {
            "text/plain": [
              "<Figure size 720x432 with 1 Axes>"
            ],
            "image/png": "[encoded data removed]"
          },
          "metadata": {}
        }
      ],
      "source": [
        "from mpl_toolkits.mplot3d import Axes3D\n",
        "from matplotlib.patches import FancyArrowPatch\n",
        "from mpl_toolkits.mplot3d import proj3d\n",
        "\n",
        "class Arrow3D(FancyArrowPatch):\n",
        "    def __init__(self, xs, ys, zs, *args, **kwargs):\n",
        "        FancyArrowPatch.__init__(self, (0,0), (0,0), *args, **kwargs)\n",
        "        self._verts3d = xs, ys, zs\n",
        "\n",
        "    def draw(self, renderer):\n",
        "        xs3d, ys3d, zs3d = self._verts3d\n",
        "        xs, ys, zs = proj3d.proj_transform(xs3d, ys3d, zs3d, renderer.M)\n",
        "        self.set_positions((xs[0],ys[0]),(xs[1],ys[1]))\n",
        "        FancyArrowPatch.draw(self, renderer)\n",
        "        \n",
        "plt.figure()\n",
        "ax = plt.gca(projection='3d')\n",
        "vX = Arrow3D([0,1],[0,3],[0,5], mutation_scale=20, lw=3, arrowstyle=\"-|>\", color=\"r\")\n",
        "vY = Arrow3D([1,2],[3,11],[5,1],mutation_scale=20, lw=3, arrowstyle=\"-|>\", color=\"c\")\n",
        "vZ = Arrow3D([2,3],[11,12],[1,4], mutation_scale=20, lw=3, arrowstyle=\"-|>\", color=\"g\")\n",
        "b = Arrow3D([0,3],[0,12],[0,4],mutation_scale=20, lw=3, arrowstyle=\"-|>\", color=\"k\")\n",
        "\n",
        "ax.add_artist(vX)\n",
        "ax.add_artist(vY)\n",
        "ax.add_artist(vZ)\n",
        "ax.add_artist(b)\n",
        "\n",
        "ax.set_xlim([0,12])\n",
        "ax.set_ylim([0,12])\n",
        "ax.set_zlim([0,12])\n",
        "plt.draw()"
      ]
    },
    {
      "cell_type": "markdown",
      "metadata": {
        "id": "Onj-j4rMYGrq"
      },
      "source": [
        "## Matrix Way $(3 \\times 3)$\n",
        "\n",
        "Let us write it in the form \n",
        "\n",
        "$$ Ax = b $$\n",
        "\n",
        "$$ \\begin{bmatrix}1 & 1 & 1 \\\\ 3 & 8 & 1 \\\\ 5 & -4 & 3\\end{bmatrix}\\begin{bmatrix} x \\\\y \\\\ z\\end{bmatrix}= \\begin{bmatrix}3 \\\\ 12 \\\\ 4 \\end{bmatrix} $$\n",
        "\n",
        "Let us find:\n",
        "\n",
        "$$ x = A^{-1}b $$"
      ]
    },
    {
      "cell_type": "code",
      "execution_count": 25,
      "metadata": {
        "collapsed": true,
        "id": "bFaTa6HYYGrs"
      },
      "outputs": [],
      "source": [
        "A1 = np.matrix([[1,1,1],\n",
        "                [3,8,1],\n",
        "                [5,-4,3]])\n",
        "\n",
        "b1 = np.matrix([[3],\n",
        "                [12],\n",
        "                [4]])"
      ]
    },
    {
      "cell_type": "code",
      "execution_count": 26,
      "metadata": {
        "colab": {
          "base_uri": "https://localhost:8080/"
        },
        "id": "UnDU6znQYGrv",
        "outputId": "49fd64fd-b7ec-4538-f21c-81ae7a1b74a0"
      },
      "outputs": [
        {
          "output_type": "execute_result",
          "data": {
            "text/plain": [
              "matrix([[ 1,  1,  1],\n",
              "        [ 3,  8,  1],\n",
              "        [ 5, -4,  3]])"
            ]
          },
          "metadata": {},
          "execution_count": 26
        }
      ],
      "source": [
        "A1"
      ]
    },
    {
      "cell_type": "code",
      "execution_count": 27,
      "metadata": {
        "colab": {
          "base_uri": "https://localhost:8080/"
        },
        "id": "8wCtd0FWYGr3",
        "outputId": "c3065b13-2608-4e77-80b8-84b51f38ba55"
      },
      "outputs": [
        {
          "output_type": "execute_result",
          "data": {
            "text/plain": [
              "matrix([[ 3],\n",
              "        [12],\n",
              "        [ 4]])"
            ]
          },
          "metadata": {},
          "execution_count": 27
        }
      ],
      "source": [
        "b1"
      ]
    },
    {
      "cell_type": "code",
      "execution_count": 28,
      "metadata": {
        "collapsed": true,
        "id": "xTlvDNB_YGr5"
      },
      "outputs": [],
      "source": [
        "A1inv = np.linalg.inv(A1)"
      ]
    },
    {
      "cell_type": "code",
      "execution_count": 29,
      "metadata": {
        "colab": {
          "base_uri": "https://localhost:8080/"
        },
        "id": "JXTVwZDHYGr7",
        "outputId": "a5378198-6373-4b0f-fcef-e948d70aacec"
      },
      "outputs": [
        {
          "output_type": "execute_result",
          "data": {
            "text/plain": [
              "matrix([[-1.        ,  0.25      ,  0.25      ],\n",
              "        [ 0.14285714,  0.07142857, -0.07142857],\n",
              "        [ 1.85714286, -0.32142857, -0.17857143]])"
            ]
          },
          "metadata": {},
          "execution_count": 29
        }
      ],
      "source": [
        "A1inv"
      ]
    },
    {
      "cell_type": "code",
      "execution_count": 30,
      "metadata": {
        "colab": {
          "base_uri": "https://localhost:8080/"
        },
        "id": "FuBJsufMYGr8",
        "outputId": "7459d6b5-58d8-4fdb-e9a1-14ab191aa814"
      },
      "outputs": [
        {
          "output_type": "execute_result",
          "data": {
            "text/plain": [
              "matrix([[1.],\n",
              "        [1.],\n",
              "        [1.]])"
            ]
          },
          "metadata": {},
          "execution_count": 30
        }
      ],
      "source": [
        "A1inv*b1"
      ]
    },
    {
      "cell_type": "markdown",
      "metadata": {
        "id": "QoLXXlJlYGr-"
      },
      "source": [
        "## Exercises on Matrices\n",
        "\n",
        "$$ U =  \\begin{bmatrix}3 & 1 & 1 \\\\ 3 & 8 & 1 \\\\ 5 & -4 & 3\\end{bmatrix}$$\n",
        "\n",
        "$$ V =  \\begin{bmatrix}2 & -3 & -4 \\\\ 3 & 5 & -6 \\\\ -1 & -3 & 2\\end{bmatrix}$$\n",
        "\n",
        "$$ W =  \\begin{bmatrix}2 & 3 \\\\ -1 & 2 \\\\ -3 & 1\\end{bmatrix}$$\n",
        "\n",
        "$$ T =  \\begin{bmatrix}2 & 3 \\\\ 4 & 6 \\end{bmatrix}$$\n",
        "\n",
        "$$ S =  \\begin{bmatrix}3 & 1 & 2 \\\\ 1 & 4 & 5 \\\\ 2 & 5 & 6 \\end{bmatrix}$$\n",
        "\n",
        "$$ Z =  \\begin{bmatrix}1 & - 1 & 0\\end{bmatrix}$$\n",
        "\n",
        "Write the matrices as np.matrix?"
      ]
    },
    {
      "cell_type": "code",
      "execution_count": 31,
      "metadata": {
        "collapsed": true,
        "id": "hVXoBBoCYGsA"
      },
      "outputs": [],
      "source": [
        "S = np.matrix([[3, 1, 2],\n",
        "              [1 , 4, 5],\n",
        "              [2 , 5 , 6]])"
      ]
    },
    {
      "cell_type": "code",
      "execution_count": 32,
      "metadata": {
        "collapsed": true,
        "id": "8eoerSTWYGsB"
      },
      "outputs": [],
      "source": [
        "U = np.matrix([[3, 1, 1],\n",
        "               [3, 8, 1],\n",
        "               [5, -4, 3]])"
      ]
    },
    {
      "cell_type": "code",
      "execution_count": 33,
      "metadata": {
        "collapsed": true,
        "id": "U-c3SIurYGsL"
      },
      "outputs": [],
      "source": [
        "V = np.matrix([[2, -3, -4],\n",
        "               [3, 5,  -6],\n",
        "               [-1, -3, 2]])"
      ]
    },
    {
      "cell_type": "code",
      "execution_count": 34,
      "metadata": {
        "collapsed": true,
        "id": "zDZIsJaeYGsN"
      },
      "outputs": [],
      "source": [
        "T = np.matrix([[2 ,3],\n",
        "               [4 ,6]])"
      ]
    },
    {
      "cell_type": "code",
      "execution_count": 35,
      "metadata": {
        "collapsed": true,
        "id": "uQSpQgyTYGsP"
      },
      "outputs": [],
      "source": [
        "Z = np.matrix([[1, -1, 0]])"
      ]
    },
    {
      "cell_type": "code",
      "execution_count": 36,
      "metadata": {
        "collapsed": true,
        "id": "3TDb5g9ZYGsR"
      },
      "outputs": [],
      "source": [
        "W = np.matrix([[2 ,3],\n",
        "               [-1 ,2],\n",
        "              [-3, 1]])"
      ]
    },
    {
      "cell_type": "markdown",
      "metadata": {
        "id": "VEUl1YtIYGsd"
      },
      "source": [
        "### 1. Matrix Addition\n",
        "\n",
        "$$ \\begin{bmatrix}a & b\\\\ c & d\\end{bmatrix}  + \\begin{bmatrix}e & f\\\\ g & h\\end{bmatrix}   = \\begin{bmatrix}a + e & b + f \\\\ c + g & d + h\\end{bmatrix} $$\n",
        "\n",
        "\n",
        "\n",
        "What is $ U + V$?"
      ]
    },
    {
      "cell_type": "code",
      "execution_count": 40,
      "metadata": {
        "collapsed": true,
        "colab": {
          "base_uri": "https://localhost:8080/"
        },
        "id": "7vvyNVp9YGsf",
        "outputId": "df86ee77-7e2e-4981-97ec-8abd94274351"
      },
      "outputs": [
        {
          "output_type": "stream",
          "name": "stdout",
          "text": [
            "[[ 5 -2 -3]\n",
            " [ 6 13 -5]\n",
            " [ 4 -7  5]]\n"
          ]
        }
      ],
      "source": [
        "print(np.add(U,V))"
      ]
    },
    {
      "cell_type": "markdown",
      "metadata": {
        "id": "dGvNg1YoYGsf"
      },
      "source": [
        "What is $ V + U $?"
      ]
    },
    {
      "cell_type": "code",
      "execution_count": 41,
      "metadata": {
        "collapsed": true,
        "colab": {
          "base_uri": "https://localhost:8080/"
        },
        "id": "uu2973_bYGsg",
        "outputId": "10e1ff1f-a6f3-413c-d7a5-dbe4eaea6604"
      },
      "outputs": [
        {
          "output_type": "stream",
          "name": "stdout",
          "text": [
            "[[ 5 -2 -3]\n",
            " [ 6 13 -5]\n",
            " [ 4 -7  5]]\n"
          ]
        }
      ],
      "source": [
        "print(np.add(V,U))"
      ]
    },
    {
      "cell_type": "markdown",
      "metadata": {
        "id": "o_TZs2W2YGsh"
      },
      "source": [
        "What is $ W + U$?"
      ]
    },
    {
      "cell_type": "code",
      "execution_count": 43,
      "metadata": {
        "collapsed": true,
        "colab": {
          "base_uri": "https://localhost:8080/",
          "height": 36
        },
        "id": "jALdSIu_YGsi",
        "outputId": "189dacc5-2d73-45e0-d947-f47e149b1c53"
      },
      "outputs": [
        {
          "output_type": "execute_result",
          "data": {
            "text/plain": [
              "'\\nThis code will run into error, since the dimensions of W and U does not match\\n'"
            ],
            "application/vnd.google.colaboratory.intrinsic+json": {
              "type": "string"
            }
          },
          "metadata": {},
          "execution_count": 43
        }
      ],
      "source": [
        "#print(np.add(W,U))\n",
        "\n",
        "'''\n",
        "This code will run into error, since the dimensions of W and U does not match\n",
        "'''"
      ]
    },
    {
      "cell_type": "markdown",
      "metadata": {
        "id": "S7oLFkbBYGsj"
      },
      "source": [
        "### 2. Scalar Multiplication \n",
        "\n",
        "$$ \\beta * \\begin{bmatrix}a & b\\\\ c & d\\end{bmatrix}  = \\begin{bmatrix}\\beta a & \\beta b\\\\ \\beta c & \\beta d \\end{bmatrix} $$\n",
        "\n",
        "\n",
        "\n",
        "What is $ 3 * U$ ?"
      ]
    },
    {
      "cell_type": "code",
      "execution_count": 44,
      "metadata": {
        "collapsed": true,
        "colab": {
          "base_uri": "https://localhost:8080/"
        },
        "id": "6PnWNunRYGsz",
        "outputId": "26b60501-f705-4e96-b4c0-22b486d05fba"
      },
      "outputs": [
        {
          "output_type": "stream",
          "name": "stdout",
          "text": [
            "[[  9   3   3]\n",
            " [  9  24   3]\n",
            " [ 15 -12   9]]\n"
          ]
        }
      ],
      "source": [
        "print(3*U)"
      ]
    },
    {
      "cell_type": "markdown",
      "metadata": {
        "id": "pBdL4xR4YGs2"
      },
      "source": [
        "What is $2.5 * W$?"
      ]
    },
    {
      "cell_type": "code",
      "execution_count": 45,
      "metadata": {
        "collapsed": true,
        "colab": {
          "base_uri": "https://localhost:8080/"
        },
        "id": "S7y58CZDYGs3",
        "outputId": "9e6107a9-e7f9-4923-9446-c30a6be83050"
      },
      "outputs": [
        {
          "output_type": "stream",
          "name": "stdout",
          "text": [
            "[[ 5.   7.5]\n",
            " [-2.5  5. ]\n",
            " [-7.5  2.5]]\n"
          ]
        }
      ],
      "source": [
        "print(2.5*W)"
      ]
    },
    {
      "cell_type": "markdown",
      "metadata": {
        "id": "-95kY_g-YGs4"
      },
      "source": [
        "### 3. Matrix Multiplication\n",
        "\n",
        "$$ A_{m \\times n} \\times B_{n \\times p} = C_{m \\times p} $$\n",
        "\n",
        "Example 1\n",
        "\n",
        "$$ A_{2 \\times 2} \\times B_{2 \\times 2} = C_{2 \\times 2} $$\n",
        "\n",
        "$$ \\begin{bmatrix}a & b\\\\ c & d\\end{bmatrix} \\begin{bmatrix}e & f\\\\ g & h\\end{bmatrix}   = \\begin{bmatrix}ae + bg & af + bh\\\\ ce + dg & cf + dh\\end{bmatrix} $$\n",
        "\n",
        "Example 2\n",
        "\n",
        "\n",
        "$$ A_{3 \\times 3} \\times B_{3 \\times 1} = C_{3 \\times 1} $$\n",
        "\n",
        "\n",
        "$$ \\begin{bmatrix}a & b & c \\\\ d & e & f \\\\ g & e & f\\end{bmatrix} \\begin{bmatrix}x \\\\ y \\\\ z \\end{bmatrix}   = \\begin{bmatrix}ax + by+ cz \\\\ dx + ey + fz \\\\ gx + ey + fz \\end{bmatrix} $$\n",
        "\n",
        "[Here](http://matrixmultiplication.xyz/) is a visual explanation for this -\n",
        "\n",
        "\n",
        "What is $ U \\times V$?"
      ]
    },
    {
      "cell_type": "code",
      "execution_count": 46,
      "metadata": {
        "collapsed": true,
        "colab": {
          "base_uri": "https://localhost:8080/"
        },
        "id": "05wM1CS5YGs8",
        "outputId": "87043571-cabb-4030-b128-3cb6bd6446f9"
      },
      "outputs": [
        {
          "output_type": "stream",
          "name": "stdout",
          "text": [
            "[[  8  -7 -16]\n",
            " [ 29  28 -58]\n",
            " [ -5 -44  10]]\n"
          ]
        }
      ],
      "source": [
        "print(np.dot(U,V))"
      ]
    },
    {
      "cell_type": "markdown",
      "metadata": {
        "id": "wp1AWXLUYGs_"
      },
      "source": [
        "What is $V * U$?"
      ]
    },
    {
      "cell_type": "code",
      "execution_count": 47,
      "metadata": {
        "collapsed": true,
        "colab": {
          "base_uri": "https://localhost:8080/"
        },
        "id": "N5ikCsrtYGtI",
        "outputId": "bac9719a-ea4a-4c42-c57c-58e5ccb30e7c"
      },
      "outputs": [
        {
          "output_type": "stream",
          "name": "stdout",
          "text": [
            "[[-23  -6 -13]\n",
            " [ -6  67 -10]\n",
            " [ -2 -33   2]]\n"
          ]
        }
      ],
      "source": [
        "print(np.dot(V,U))"
      ]
    },
    {
      "cell_type": "markdown",
      "metadata": {
        "id": "b9uSgG3wYGtL"
      },
      "source": [
        "What is $ U * W$?"
      ]
    },
    {
      "cell_type": "code",
      "execution_count": 48,
      "metadata": {
        "collapsed": true,
        "colab": {
          "base_uri": "https://localhost:8080/"
        },
        "id": "516VKw_NYGtN",
        "outputId": "821fad35-750a-4065-b041-9e2f02d0eeda"
      },
      "outputs": [
        {
          "output_type": "stream",
          "name": "stdout",
          "text": [
            "[[ 2 12]\n",
            " [-5 26]\n",
            " [ 5 10]]\n"
          ]
        }
      ],
      "source": [
        "print(np.dot(U,W))"
      ]
    },
    {
      "cell_type": "markdown",
      "metadata": {
        "id": "B_eGqmbQYGtO"
      },
      "source": [
        "What is $ W * U$? Why does this not work?"
      ]
    },
    {
      "cell_type": "code",
      "execution_count": 49,
      "metadata": {
        "collapsed": true,
        "colab": {
          "base_uri": "https://localhost:8080/",
          "height": 200
        },
        "id": "bMDMylogYGtR",
        "outputId": "13f2eb51-a1a6-4622-e90a-6c797b3744c0"
      },
      "outputs": [
        {
          "output_type": "error",
          "ename": "ValueError",
          "evalue": "ignored",
          "traceback": [
            "\u001b[0;31m---------------------------------------------------------------------------\u001b[0m",
            "\u001b[0;31mValueError\u001b[0m                                Traceback (most recent call last)",
            "\u001b[0;32m<ipython-input-49-d09fdc3792d5>\u001b[0m in \u001b[0;36m<module>\u001b[0;34m\u001b[0m\n\u001b[0;32m----> 1\u001b[0;31m \u001b[0mprint\u001b[0m\u001b[0;34m(\u001b[0m\u001b[0mnp\u001b[0m\u001b[0;34m.\u001b[0m\u001b[0mdot\u001b[0m\u001b[0;34m(\u001b[0m\u001b[0mW\u001b[0m\u001b[0;34m,\u001b[0m\u001b[0mU\u001b[0m\u001b[0;34m)\u001b[0m\u001b[0;34m)\u001b[0m\u001b[0;34m\u001b[0m\u001b[0;34m\u001b[0m\u001b[0m\n\u001b[0m",
            "\u001b[0;32m<__array_function__ internals>\u001b[0m in \u001b[0;36mdot\u001b[0;34m(*args, **kwargs)\u001b[0m\n",
            "\u001b[0;31mValueError\u001b[0m: shapes (3,2) and (3,3) not aligned: 2 (dim 1) != 3 (dim 0)"
          ]
        }
      ],
      "source": [
        "#print(np.dot(W,U))\n",
        "\n",
        "'''\n",
        "The dimensions of W is 3 * 2 and of U is 3*3 , it doesn't match, \n",
        "\n",
        "See the Error description for more \n",
        "'''"
      ]
    },
    {
      "cell_type": "markdown",
      "metadata": {
        "id": "ZZ9J6b-FYGtS"
      },
      "source": [
        "What is $ Z * U$?"
      ]
    },
    {
      "cell_type": "code",
      "execution_count": 50,
      "metadata": {
        "collapsed": true,
        "colab": {
          "base_uri": "https://localhost:8080/"
        },
        "id": "aFFvFJ7HYGtT",
        "outputId": "a9a7cf20-a61f-4bc3-ad14-da9daf81fcdd"
      },
      "outputs": [
        {
          "output_type": "stream",
          "name": "stdout",
          "text": [
            "[[ 0 -7  0]]\n"
          ]
        }
      ],
      "source": [
        "print(np.dot(Z,U))"
      ]
    },
    {
      "cell_type": "markdown",
      "metadata": {
        "id": "hpXOCDVNYGtX"
      },
      "source": [
        "### 4. Matrix Inverse\n",
        "\n",
        "What is inverse of $U$ i.e. $U^{-1}$?"
      ]
    },
    {
      "cell_type": "code",
      "execution_count": 52,
      "metadata": {
        "collapsed": true,
        "colab": {
          "base_uri": "https://localhost:8080/"
        },
        "id": "aCOdv3MsYGtZ",
        "outputId": "9c34fcc3-2b29-4371-e6c5-58b983291768"
      },
      "outputs": [
        {
          "output_type": "stream",
          "name": "stdout",
          "text": [
            "[[ 1.00000000e+00 -2.50000000e-01 -2.50000000e-01]\n",
            " [-1.42857143e-01  1.42857143e-01 -1.06752214e-17]\n",
            " [-1.85714286e+00  6.07142857e-01  7.50000000e-01]]\n"
          ]
        }
      ],
      "source": [
        "print(np.linalg.inv(U))"
      ]
    },
    {
      "cell_type": "markdown",
      "metadata": {
        "id": "YN-qTOHmYGtZ"
      },
      "source": [
        "What is inverse of $T$ i.e. $T^{-1}$? Why does this not work?"
      ]
    },
    {
      "cell_type": "code",
      "execution_count": 37,
      "metadata": {
        "colab": {
          "base_uri": "https://localhost:8080/"
        },
        "id": "5CdZsnClYGtf",
        "outputId": "4eff7eb1-97d4-46d9-a97b-7f281fcd7a9d"
      },
      "outputs": [
        {
          "output_type": "execute_result",
          "data": {
            "text/plain": [
              "matrix([[2, 3],\n",
              "        [4, 6]])"
            ]
          },
          "metadata": {},
          "execution_count": 37
        }
      ],
      "source": [
        "T"
      ]
    },
    {
      "cell_type": "code",
      "source": [
        "'''\n",
        "The inverse of a matrix is just a reciprocal of the matrix\n",
        "as we do in normal arithmetic for a single number which is used\n",
        "to solve the equations to find the value of unknown variables.\n",
        "The inverse of a matrix is that matrix which when multiplied\n",
        "with the original matrix will give as an identity matrix.\n",
        "The inverse of a matrix exists only if the matrix is non-singular\n",
        "i.e., determinant should not be 0. Using determinant and adjoint, we \n",
        "can easily find the inverse of a square matrix using below formula,\n",
        "'''"
      ],
      "metadata": {
        "id": "dqwjKNi2rrpi",
        "outputId": "8232ba2d-fc98-4f99-b334-632b09a53c14",
        "colab": {
          "base_uri": "https://localhost:8080/",
          "height": 70
        }
      },
      "execution_count": 55,
      "outputs": [
        {
          "output_type": "execute_result",
          "data": {
            "text/plain": [
              "'\\nThe inverse of a matrix is just a reciprocal of the matrix\\nas we do in normal arithmetic for a single number which is used\\nto solve the equations to find the value of unknown variables.\\nThe inverse of a matrix is that matrix which when multiplied\\nwith the original matrix will give as an identity matrix.\\nThe inverse of a matrix exists only if the matrix is non-singular\\ni.e., determinant should not be 0. Using determinant and adjoint, we \\ncan easily find the inverse of a square matrix using below formula,\\n'"
            ],
            "application/vnd.google.colaboratory.intrinsic+json": {
              "type": "string"
            }
          },
          "metadata": {},
          "execution_count": 55
        }
      ]
    },
    {
      "cell_type": "markdown",
      "metadata": {
        "id": "NJXkL3k5YGti"
      },
      "source": [
        "What is inverse of $W$ i.e. $W^{-1}$? Why does this not work?"
      ]
    },
    {
      "cell_type": "code",
      "execution_count": 38,
      "metadata": {
        "colab": {
          "base_uri": "https://localhost:8080/"
        },
        "id": "CKfcbRalYGtj",
        "outputId": "33052020-c037-45ab-a462-a493afd9e2bc"
      },
      "outputs": [
        {
          "output_type": "execute_result",
          "data": {
            "text/plain": [
              "matrix([[ 2,  3],\n",
              "        [-1,  2],\n",
              "        [-3,  1]])"
            ]
          },
          "metadata": {},
          "execution_count": 38
        }
      ],
      "source": [
        "W"
      ]
    },
    {
      "cell_type": "markdown",
      "metadata": {
        "id": "0j-klsy0YGtz"
      },
      "source": [
        "### 4. Matrix Transpose\n",
        "\n",
        "$$ {\\begin{bmatrix}a & b\\end{bmatrix}}^{T} = {\\begin{bmatrix}a \\\\b\\end{bmatrix}} $$\n",
        "\n",
        "$$ {\\begin{bmatrix}a & b\\\\ c & d\\end{bmatrix}}^{T} = \\begin{bmatrix}a&c\\\\b&d\\end{bmatrix} $$\n",
        "\n",
        "$$ {\\begin{bmatrix}a&b\\\\c&d\\\\e&f\\end{bmatrix}}^{T} =  \\begin{bmatrix}a&c&e\\\\b&d&f\\end{bmatrix} $$\n",
        "\n",
        "What is transpose of $U$ i.e. $U^{T}$?"
      ]
    },
    {
      "cell_type": "code",
      "execution_count": 56,
      "metadata": {
        "collapsed": true,
        "colab": {
          "base_uri": "https://localhost:8080/"
        },
        "id": "QMCECoxJYGt1",
        "outputId": "40a422ab-061c-46f9-eb70-e6270485b905"
      },
      "outputs": [
        {
          "output_type": "stream",
          "name": "stdout",
          "text": [
            "[[ 3  3  5]\n",
            " [ 1  8 -4]\n",
            " [ 1  1  3]]\n"
          ]
        }
      ],
      "source": [
        "print(np.transpose(U))"
      ]
    },
    {
      "cell_type": "markdown",
      "metadata": {
        "id": "TDubNsVaYGt5"
      },
      "source": [
        "Test whether $ {(UV)}^{T} = V^{T} U^{T}$ "
      ]
    },
    {
      "cell_type": "code",
      "execution_count": 57,
      "metadata": {
        "collapsed": true,
        "colab": {
          "base_uri": "https://localhost:8080/"
        },
        "id": "RUhdolUCYGt5",
        "outputId": "be4a38f8-387f-4a5e-9089-378cc228fece"
      },
      "outputs": [
        {
          "output_type": "stream",
          "name": "stdout",
          "text": [
            "[[  8  29  -5]\n",
            " [ -7  28 -44]\n",
            " [-16 -58  10]]\n"
          ]
        }
      ],
      "source": [
        "print(np.transpose(np.dot(U,V)))"
      ]
    },
    {
      "cell_type": "code",
      "execution_count": 58,
      "metadata": {
        "collapsed": true,
        "colab": {
          "base_uri": "https://localhost:8080/"
        },
        "id": "8XI0cv-QYGt6",
        "outputId": "e2ed1a86-345a-4bd8-aecc-9478da8e021e"
      },
      "outputs": [
        {
          "output_type": "stream",
          "name": "stdout",
          "text": [
            "[[  8  29  -5]\n",
            " [ -7  28 -44]\n",
            " [-16 -58  10]]\n"
          ]
        }
      ],
      "source": [
        "print(np.dot(np.transpose(V), np.transpose(U)))"
      ]
    },
    {
      "cell_type": "markdown",
      "metadata": {
        "id": "uDUPHQCbYGuF"
      },
      "source": [
        "What is transpose of $Z$ i.e. $Z^{T}$?"
      ]
    },
    {
      "cell_type": "code",
      "execution_count": 59,
      "metadata": {
        "collapsed": true,
        "colab": {
          "base_uri": "https://localhost:8080/"
        },
        "id": "hKC3EPoRYGuG",
        "outputId": "de34ae45-7d53-4dda-a07f-a074ff39a427"
      },
      "outputs": [
        {
          "output_type": "stream",
          "name": "stdout",
          "text": [
            "[[ 1]\n",
            " [-1]\n",
            " [ 0]]\n"
          ]
        }
      ],
      "source": [
        "print(np.transpose(Z))"
      ]
    },
    {
      "cell_type": "markdown",
      "metadata": {
        "id": "ENbPf8BAYGuH"
      },
      "source": [
        "### 5. Matrix Determinant\n",
        "\n",
        "$$ \\begin{Vmatrix} a & b \\\\ c & d \\end{Vmatrix} = ad-bc $$\n",
        "\n",
        "\n",
        "$$ \\begin{Vmatrix}a&b&c\\\\d&e&f\\\\g&h&i\\end{Vmatrix}  = a{\\begin{Vmatrix}e&f\\\\h&i\\end{Vmatrix}}-b{\\begin{Vmatrix}d&f\\\\g&i\\end{Vmatrix}}+c{\\begin{Vmatrix}d&e\\\\g&h\\end{Vmatrix}}\\\\ $$\n",
        "\n"
      ]
    },
    {
      "cell_type": "markdown",
      "metadata": {
        "id": "eFvWQ-E1YGuI"
      },
      "source": [
        "What is the $||U||$?"
      ]
    },
    {
      "cell_type": "code",
      "execution_count": 60,
      "metadata": {
        "collapsed": true,
        "colab": {
          "base_uri": "https://localhost:8080/"
        },
        "id": "qRxIq1ecYGuJ",
        "outputId": "789b168a-eb0d-4f78-ee56-9f9e901cf5ec"
      },
      "outputs": [
        {
          "output_type": "stream",
          "name": "stdout",
          "text": [
            "28.00000000000001\n"
          ]
        }
      ],
      "source": [
        "print(np.linalg.det(U))"
      ]
    },
    {
      "cell_type": "markdown",
      "metadata": {
        "id": "HPGcVUg2YGuL"
      },
      "source": [
        "What is $||W||$?"
      ]
    },
    {
      "cell_type": "code",
      "execution_count": 62,
      "metadata": {
        "collapsed": true,
        "colab": {
          "base_uri": "https://localhost:8080/",
          "height": 36
        },
        "id": "vrCtPvBtYGuM",
        "outputId": "04e19f6c-2ba5-4b3e-8efd-71be5608b32d"
      },
      "outputs": [
        {
          "output_type": "execute_result",
          "data": {
            "text/plain": [
              "'\\nNot a square matrix\\n'"
            ],
            "application/vnd.google.colaboratory.intrinsic+json": {
              "type": "string"
            }
          },
          "metadata": {},
          "execution_count": 62
        }
      ],
      "source": [
        "#print(np.linalg.det(W))\n",
        "\n",
        "'''\n",
        "Not a square matrix\n",
        "'''"
      ]
    }
  ],
  "metadata": {
    "anaconda-cloud": {},
    "kernelspec": {
      "display_name": "Python [default]",
      "language": "python",
      "name": "python3"
    },
    "language_info": {
      "codemirror_mode": {
        "name": "ipython",
        "version": 3
      },
      "file_extension": ".py",
      "mimetype": "text/x-python",
      "name": "python",
      "nbconvert_exporter": "python",
      "pygments_lexer": "ipython3",
      "version": "3.6.2"
    },
    "colab": {
      "provenance": [],
      "include_colab_link": true
    }
  },
  "nbformat": 4,
  "nbformat_minor": 0
}