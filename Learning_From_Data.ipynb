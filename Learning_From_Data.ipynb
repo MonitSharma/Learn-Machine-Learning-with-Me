{
  "nbformat": 4,
  "nbformat_minor": 0,
  "metadata": {
    "colab": {
      "provenance": [],
      "authorship_tag": "ABX9TyMRNV0Tk9lXN0JIEXpegmfq",
      "include_colab_link": true
    },
    "kernelspec": {
      "name": "python3",
      "display_name": "Python 3"
    },
    "language_info": {
      "name": "python"
    }
  },
  "cells": [
    {
      "cell_type": "markdown",
      "metadata": {
        "id": "view-in-github",
        "colab_type": "text"
      },
      "source": [
        "<a href=\"https://colab.research.google.com/github/MonitSharma/Learn-Machine-Learning-with-Me/blob/main/Learning_From_Data.ipynb\" target=\"_parent\"><img src=\"https://colab.research.google.com/assets/colab-badge.svg\" alt=\"Open In Colab\"/></a>"
      ]
    },
    {
      "cell_type": "markdown",
      "source": [
        "# How to Learn from the Data?\n",
        "\n",
        "\n",
        "Decision Trees are a non-parametric supervised learning method used for classification and regression. The goal is to create a model that predicts the value of a target variable by learning simple decision rules inferred from the data features."
      ],
      "metadata": {
        "id": "kSKmHWsE1nsA"
      }
    },
    {
      "cell_type": "markdown",
      "source": [
        "## Example\n",
        "\n",
        "Let's start with a simple exercise of classifying credit risk analysis\n",
        "\n",
        "We have the following features\n",
        "1. **Risk** - ordinal\n",
        "2. **Income** - continuous\n",
        "3. **Credit History** - ordinal\n",
        "\n",
        "We want to find the rules that would help us classify the three risk type."
      ],
      "metadata": {
        "id": "EDdLYx0R1v5C"
      }
    },
    {
      "cell_type": "markdown",
      "source": [
        "Import basic libraries"
      ],
      "metadata": {
        "id": "0ZwFTH_u2Ofm"
      }
    },
    {
      "cell_type": "code",
      "execution_count": 1,
      "metadata": {
        "id": "P6ya32y31fMr"
      },
      "outputs": [],
      "source": [
        "import pandas as pd\n",
        "import numpy as np\n",
        "import matplotlib.pyplot as plt\n",
        "%matplotlib inline\n",
        "plt.style.use('fivethirtyeight')"
      ]
    },
    {
      "cell_type": "markdown",
      "source": [
        "The data file is available [here](https://github.com/amitkaps/hackermath/blob/master/data/creditRisk.csv)"
      ],
      "metadata": {
        "id": "EwHJEttI2Zc7"
      }
    },
    {
      "cell_type": "code",
      "source": [
        "df = pd.read_csv(\"creditRisk.csv\")"
      ],
      "metadata": {
        "id": "fnEFOI112Vn8"
      },
      "execution_count": 2,
      "outputs": []
    },
    {
      "cell_type": "markdown",
      "source": [
        "## Visualize the data"
      ],
      "metadata": {
        "id": "JZxGdRii2kFt"
      }
    },
    {
      "cell_type": "code",
      "source": [
        "df.head()"
      ],
      "metadata": {
        "colab": {
          "base_uri": "https://localhost:8080/",
          "height": 206
        },
        "id": "vBPsFqyD2Ymx",
        "outputId": "ae7770fe-dcdc-4c69-da7e-b658837c0163"
      },
      "execution_count": 3,
      "outputs": [
        {
          "output_type": "execute_result",
          "data": {
            "text/plain": [
              "   Income Credit History  Risk\n",
              "0       0        Unknown  High\n",
              "1       0            Bad  High\n",
              "2       0           Good  High\n",
              "3   14000        Unknown  High\n",
              "4   14000            Bad  High"
            ],
            "text/html": [
              "\n",
              "  <div id=\"df-b97099ba-fd04-4795-8b4f-26663b6001b8\">\n",
              "    <div class=\"colab-df-container\">\n",
              "      <div>\n",
              "<style scoped>\n",
              "    .dataframe tbody tr th:only-of-type {\n",
              "        vertical-align: middle;\n",
              "    }\n",
              "\n",
              "    .dataframe tbody tr th {\n",
              "        vertical-align: top;\n",
              "    }\n",
              "\n",
              "    .dataframe thead th {\n",
              "        text-align: right;\n",
              "    }\n",
              "</style>\n",
              "<table border=\"1\" class=\"dataframe\">\n",
              "  <thead>\n",
              "    <tr style=\"text-align: right;\">\n",
              "      <th></th>\n",
              "      <th>Income</th>\n",
              "      <th>Credit History</th>\n",
              "      <th>Risk</th>\n",
              "    </tr>\n",
              "  </thead>\n",
              "  <tbody>\n",
              "    <tr>\n",
              "      <th>0</th>\n",
              "      <td>0</td>\n",
              "      <td>Unknown</td>\n",
              "      <td>High</td>\n",
              "    </tr>\n",
              "    <tr>\n",
              "      <th>1</th>\n",
              "      <td>0</td>\n",
              "      <td>Bad</td>\n",
              "      <td>High</td>\n",
              "    </tr>\n",
              "    <tr>\n",
              "      <th>2</th>\n",
              "      <td>0</td>\n",
              "      <td>Good</td>\n",
              "      <td>High</td>\n",
              "    </tr>\n",
              "    <tr>\n",
              "      <th>3</th>\n",
              "      <td>14000</td>\n",
              "      <td>Unknown</td>\n",
              "      <td>High</td>\n",
              "    </tr>\n",
              "    <tr>\n",
              "      <th>4</th>\n",
              "      <td>14000</td>\n",
              "      <td>Bad</td>\n",
              "      <td>High</td>\n",
              "    </tr>\n",
              "  </tbody>\n",
              "</table>\n",
              "</div>\n",
              "      <button class=\"colab-df-convert\" onclick=\"convertToInteractive('df-b97099ba-fd04-4795-8b4f-26663b6001b8')\"\n",
              "              title=\"Convert this dataframe to an interactive table.\"\n",
              "              style=\"display:none;\">\n",
              "        \n",
              "  <svg xmlns=\"http://www.w3.org/2000/svg\" height=\"24px\"viewBox=\"0 0 24 24\"\n",
              "       width=\"24px\">\n",
              "    <path d=\"M0 0h24v24H0V0z\" fill=\"none\"/>\n",
              "    <path d=\"M18.56 5.44l.94 2.06.94-2.06 2.06-.94-2.06-.94-.94-2.06-.94 2.06-2.06.94zm-11 1L8.5 8.5l.94-2.06 2.06-.94-2.06-.94L8.5 2.5l-.94 2.06-2.06.94zm10 10l.94 2.06.94-2.06 2.06-.94-2.06-.94-.94-2.06-.94 2.06-2.06.94z\"/><path d=\"M17.41 7.96l-1.37-1.37c-.4-.4-.92-.59-1.43-.59-.52 0-1.04.2-1.43.59L10.3 9.45l-7.72 7.72c-.78.78-.78 2.05 0 2.83L4 21.41c.39.39.9.59 1.41.59.51 0 1.02-.2 1.41-.59l7.78-7.78 2.81-2.81c.8-.78.8-2.07 0-2.86zM5.41 20L4 18.59l7.72-7.72 1.47 1.35L5.41 20z\"/>\n",
              "  </svg>\n",
              "      </button>\n",
              "      \n",
              "  <style>\n",
              "    .colab-df-container {\n",
              "      display:flex;\n",
              "      flex-wrap:wrap;\n",
              "      gap: 12px;\n",
              "    }\n",
              "\n",
              "    .colab-df-convert {\n",
              "      background-color: #E8F0FE;\n",
              "      border: none;\n",
              "      border-radius: 50%;\n",
              "      cursor: pointer;\n",
              "      display: none;\n",
              "      fill: #1967D2;\n",
              "      height: 32px;\n",
              "      padding: 0 0 0 0;\n",
              "      width: 32px;\n",
              "    }\n",
              "\n",
              "    .colab-df-convert:hover {\n",
              "      background-color: #E2EBFA;\n",
              "      box-shadow: 0px 1px 2px rgba(60, 64, 67, 0.3), 0px 1px 3px 1px rgba(60, 64, 67, 0.15);\n",
              "      fill: #174EA6;\n",
              "    }\n",
              "\n",
              "    [theme=dark] .colab-df-convert {\n",
              "      background-color: #3B4455;\n",
              "      fill: #D2E3FC;\n",
              "    }\n",
              "\n",
              "    [theme=dark] .colab-df-convert:hover {\n",
              "      background-color: #434B5C;\n",
              "      box-shadow: 0px 1px 3px 1px rgba(0, 0, 0, 0.15);\n",
              "      filter: drop-shadow(0px 1px 2px rgba(0, 0, 0, 0.3));\n",
              "      fill: #FFFFFF;\n",
              "    }\n",
              "  </style>\n",
              "\n",
              "      <script>\n",
              "        const buttonEl =\n",
              "          document.querySelector('#df-b97099ba-fd04-4795-8b4f-26663b6001b8 button.colab-df-convert');\n",
              "        buttonEl.style.display =\n",
              "          google.colab.kernel.accessAllowed ? 'block' : 'none';\n",
              "\n",
              "        async function convertToInteractive(key) {\n",
              "          const element = document.querySelector('#df-b97099ba-fd04-4795-8b4f-26663b6001b8');\n",
              "          const dataTable =\n",
              "            await google.colab.kernel.invokeFunction('convertToInteractive',\n",
              "                                                     [key], {});\n",
              "          if (!dataTable) return;\n",
              "\n",
              "          const docLinkHtml = 'Like what you see? Visit the ' +\n",
              "            '<a target=\"_blank\" href=https://colab.research.google.com/notebooks/data_table.ipynb>data table notebook</a>'\n",
              "            + ' to learn more about interactive tables.';\n",
              "          element.innerHTML = '';\n",
              "          dataTable['output_type'] = 'display_data';\n",
              "          await google.colab.output.renderOutput(dataTable, element);\n",
              "          const docLink = document.createElement('div');\n",
              "          docLink.innerHTML = docLinkHtml;\n",
              "          element.appendChild(docLink);\n",
              "        }\n",
              "      </script>\n",
              "    </div>\n",
              "  </div>\n",
              "  "
            ]
          },
          "metadata": {},
          "execution_count": 3
        }
      ]
    },
    {
      "cell_type": "code",
      "source": [
        "df.dtypes"
      ],
      "metadata": {
        "colab": {
          "base_uri": "https://localhost:8080/"
        },
        "id": "an2RSvig2nMc",
        "outputId": "cd1335af-5957-4ad2-bac3-b3d955612f06"
      },
      "execution_count": 4,
      "outputs": [
        {
          "output_type": "execute_result",
          "data": {
            "text/plain": [
              "Income             int64\n",
              "Credit History    object\n",
              "Risk              object\n",
              "dtype: object"
            ]
          },
          "metadata": {},
          "execution_count": 4
        }
      ]
    },
    {
      "cell_type": "markdown",
      "source": [
        "### Plotting the data\n",
        "\n",
        "We will use seaborn for this"
      ],
      "metadata": {
        "id": "HopGM2s22pnU"
      }
    },
    {
      "cell_type": "code",
      "source": [
        "import seaborn as sns"
      ],
      "metadata": {
        "id": "yYCwHJmi2odK"
      },
      "execution_count": 5,
      "outputs": []
    },
    {
      "cell_type": "code",
      "source": [
        "sns.stripplot(data = df, x = \"Income\", y = \"Credit History\", hue = \"Risk\", size = 10)\n"
      ],
      "metadata": {
        "colab": {
          "base_uri": "https://localhost:8080/",
          "height": 321
        },
        "id": "FNEyK2uL2t4Y",
        "outputId": "e8d05fc8-4e4d-49ca-ccd5-33e750991fa2"
      },
      "execution_count": 6,
      "outputs": [
        {
          "output_type": "execute_result",
          "data": {
            "text/plain": [
              "<matplotlib.axes._subplots.AxesSubplot at 0x7f4f4ff02a50>"
            ]
          },
          "metadata": {},
          "execution_count": 6
        },
        {
          "output_type": "display_data",
          "data": {
            "text/plain": [
              "<Figure size 432x288 with 1 Axes>"
            ],
            "image/png": "[encoded data removed]"
          },
          "metadata": {}
        }
      ]
    },
    {
      "cell_type": "markdown",
      "source": [
        "## Reformulating the Data\n",
        "\n",
        "We have one ordinal variable (Risk) and one nominal variable (Credit History)\n",
        "\n",
        "Lets use a dictionary for encoding nominal variable"
      ],
      "metadata": {
        "id": "xrDzWpGP2xlV"
      }
    },
    {
      "cell_type": "code",
      "source": [
        "\n",
        "df.Risk.unique()"
      ],
      "metadata": {
        "colab": {
          "base_uri": "https://localhost:8080/"
        },
        "id": "GaB8yep12wRr",
        "outputId": "49c3167d-26bc-4041-c686-efec01af946f"
      },
      "execution_count": 7,
      "outputs": [
        {
          "output_type": "execute_result",
          "data": {
            "text/plain": [
              "array(['High', 'Moderate', 'Low'], dtype=object)"
            ]
          },
          "metadata": {},
          "execution_count": 7
        }
      ]
    },
    {
      "cell_type": "code",
      "source": [
        "Risk_mapping = {\n",
        "       'High': 2,\n",
        "       'Moderate': 1,\n",
        "       'Low': 0}"
      ],
      "metadata": {
        "id": "0ikrBJwf2565"
      },
      "execution_count": 8,
      "outputs": []
    },
    {
      "cell_type": "code",
      "source": [
        "df['Risk'] = df['Risk'].map(Risk_mapping)"
      ],
      "metadata": {
        "id": "sC7Ng1mC27QW"
      },
      "execution_count": 9,
      "outputs": []
    },
    {
      "cell_type": "code",
      "source": [
        "df['Credit History'].unique()"
      ],
      "metadata": {
        "colab": {
          "base_uri": "https://localhost:8080/"
        },
        "id": "c1tBwQGz28rN",
        "outputId": "e4b3047e-14d0-4c5d-cf94-62d2064abf94"
      },
      "execution_count": 10,
      "outputs": [
        {
          "output_type": "execute_result",
          "data": {
            "text/plain": [
              "array(['Unknown', 'Bad', 'Good'], dtype=object)"
            ]
          },
          "metadata": {},
          "execution_count": 10
        }
      ]
    },
    {
      "cell_type": "code",
      "source": [
        "Credit_mapping = {\n",
        "        'Unknown': 0,\n",
        "        'Bad': -1,\n",
        "        'Good': 1}"
      ],
      "metadata": {
        "id": "VpwEo8cn2-Gu"
      },
      "execution_count": 11,
      "outputs": []
    },
    {
      "cell_type": "code",
      "source": [
        "df['Credit History'] = df['Credit History'].map(Credit_mapping)"
      ],
      "metadata": {
        "id": "iNExE8952_iA"
      },
      "execution_count": 12,
      "outputs": []
    },
    {
      "cell_type": "code",
      "source": [
        "df.head()"
      ],
      "metadata": {
        "colab": {
          "base_uri": "https://localhost:8080/",
          "height": 206
        },
        "id": "V4EIeE8S3A3x",
        "outputId": "69d21f89-5ecc-44b8-eb2a-b95cc6a9c84c"
      },
      "execution_count": 13,
      "outputs": [
        {
          "output_type": "execute_result",
          "data": {
            "text/plain": [
              "   Income  Credit History  Risk\n",
              "0       0               0     2\n",
              "1       0              -1     2\n",
              "2       0               1     2\n",
              "3   14000               0     2\n",
              "4   14000              -1     2"
            ],
            "text/html": [
              "\n",
              "  <div id=\"df-0d700ad0-a57a-4fc6-aee1-cc53337652d7\">\n",
              "    <div class=\"colab-df-container\">\n",
              "      <div>\n",
              "<style scoped>\n",
              "    .dataframe tbody tr th:only-of-type {\n",
              "        vertical-align: middle;\n",
              "    }\n",
              "\n",
              "    .dataframe tbody tr th {\n",
              "        vertical-align: top;\n",
              "    }\n",
              "\n",
              "    .dataframe thead th {\n",
              "        text-align: right;\n",
              "    }\n",
              "</style>\n",
              "<table border=\"1\" class=\"dataframe\">\n",
              "  <thead>\n",
              "    <tr style=\"text-align: right;\">\n",
              "      <th></th>\n",
              "      <th>Income</th>\n",
              "      <th>Credit History</th>\n",
              "      <th>Risk</th>\n",
              "    </tr>\n",
              "  </thead>\n",
              "  <tbody>\n",
              "    <tr>\n",
              "      <th>0</th>\n",
              "      <td>0</td>\n",
              "      <td>0</td>\n",
              "      <td>2</td>\n",
              "    </tr>\n",
              "    <tr>\n",
              "      <th>1</th>\n",
              "      <td>0</td>\n",
              "      <td>-1</td>\n",
              "      <td>2</td>\n",
              "    </tr>\n",
              "    <tr>\n",
              "      <th>2</th>\n",
              "      <td>0</td>\n",
              "      <td>1</td>\n",
              "      <td>2</td>\n",
              "    </tr>\n",
              "    <tr>\n",
              "      <th>3</th>\n",
              "      <td>14000</td>\n",
              "      <td>0</td>\n",
              "      <td>2</td>\n",
              "    </tr>\n",
              "    <tr>\n",
              "      <th>4</th>\n",
              "      <td>14000</td>\n",
              "      <td>-1</td>\n",
              "      <td>2</td>\n",
              "    </tr>\n",
              "  </tbody>\n",
              "</table>\n",
              "</div>\n",
              "      <button class=\"colab-df-convert\" onclick=\"convertToInteractive('df-0d700ad0-a57a-4fc6-aee1-cc53337652d7')\"\n",
              "              title=\"Convert this dataframe to an interactive table.\"\n",
              "              style=\"display:none;\">\n",
              "        \n",
              "  <svg xmlns=\"http://www.w3.org/2000/svg\" height=\"24px\"viewBox=\"0 0 24 24\"\n",
              "       width=\"24px\">\n",
              "    <path d=\"M0 0h24v24H0V0z\" fill=\"none\"/>\n",
              "    <path d=\"M18.56 5.44l.94 2.06.94-2.06 2.06-.94-2.06-.94-.94-2.06-.94 2.06-2.06.94zm-11 1L8.5 8.5l.94-2.06 2.06-.94-2.06-.94L8.5 2.5l-.94 2.06-2.06.94zm10 10l.94 2.06.94-2.06 2.06-.94-2.06-.94-.94-2.06-.94 2.06-2.06.94z\"/><path d=\"M17.41 7.96l-1.37-1.37c-.4-.4-.92-.59-1.43-.59-.52 0-1.04.2-1.43.59L10.3 9.45l-7.72 7.72c-.78.78-.78 2.05 0 2.83L4 21.41c.39.39.9.59 1.41.59.51 0 1.02-.2 1.41-.59l7.78-7.78 2.81-2.81c.8-.78.8-2.07 0-2.86zM5.41 20L4 18.59l7.72-7.72 1.47 1.35L5.41 20z\"/>\n",
              "  </svg>\n",
              "      </button>\n",
              "      \n",
              "  <style>\n",
              "    .colab-df-container {\n",
              "      display:flex;\n",
              "      flex-wrap:wrap;\n",
              "      gap: 12px;\n",
              "    }\n",
              "\n",
              "    .colab-df-convert {\n",
              "      background-color: #E8F0FE;\n",
              "      border: none;\n",
              "      border-radius: 50%;\n",
              "      cursor: pointer;\n",
              "      display: none;\n",
              "      fill: #1967D2;\n",
              "      height: 32px;\n",
              "      padding: 0 0 0 0;\n",
              "      width: 32px;\n",
              "    }\n",
              "\n",
              "    .colab-df-convert:hover {\n",
              "      background-color: #E2EBFA;\n",
              "      box-shadow: 0px 1px 2px rgba(60, 64, 67, 0.3), 0px 1px 3px 1px rgba(60, 64, 67, 0.15);\n",
              "      fill: #174EA6;\n",
              "    }\n",
              "\n",
              "    [theme=dark] .colab-df-convert {\n",
              "      background-color: #3B4455;\n",
              "      fill: #D2E3FC;\n",
              "    }\n",
              "\n",
              "    [theme=dark] .colab-df-convert:hover {\n",
              "      background-color: #434B5C;\n",
              "      box-shadow: 0px 1px 3px 1px rgba(0, 0, 0, 0.15);\n",
              "      filter: drop-shadow(0px 1px 2px rgba(0, 0, 0, 0.3));\n",
              "      fill: #FFFFFF;\n",
              "    }\n",
              "  </style>\n",
              "\n",
              "      <script>\n",
              "        const buttonEl =\n",
              "          document.querySelector('#df-0d700ad0-a57a-4fc6-aee1-cc53337652d7 button.colab-df-convert');\n",
              "        buttonEl.style.display =\n",
              "          google.colab.kernel.accessAllowed ? 'block' : 'none';\n",
              "\n",
              "        async function convertToInteractive(key) {\n",
              "          const element = document.querySelector('#df-0d700ad0-a57a-4fc6-aee1-cc53337652d7');\n",
              "          const dataTable =\n",
              "            await google.colab.kernel.invokeFunction('convertToInteractive',\n",
              "                                                     [key], {});\n",
              "          if (!dataTable) return;\n",
              "\n",
              "          const docLinkHtml = 'Like what you see? Visit the ' +\n",
              "            '<a target=\"_blank\" href=https://colab.research.google.com/notebooks/data_table.ipynb>data table notebook</a>'\n",
              "            + ' to learn more about interactive tables.';\n",
              "          element.innerHTML = '';\n",
              "          dataTable['output_type'] = 'display_data';\n",
              "          await google.colab.output.renderOutput(dataTable, element);\n",
              "          const docLink = document.createElement('div');\n",
              "          docLink.innerHTML = docLinkHtml;\n",
              "          element.appendChild(docLink);\n",
              "        }\n",
              "      </script>\n",
              "    </div>\n",
              "  </div>\n",
              "  "
            ]
          },
          "metadata": {},
          "execution_count": 13
        }
      ]
    },
    {
      "cell_type": "code",
      "source": [
        "sns.stripplot(data = df, x = \"Income\", y = \"Credit History\", hue = \"Risk\", size = 10)\n"
      ],
      "metadata": {
        "colab": {
          "base_uri": "https://localhost:8080/",
          "height": 321
        },
        "id": "GSV8bjCE3CGU",
        "outputId": "7e451ced-9751-480f-d6c5-442143171d81"
      },
      "execution_count": 14,
      "outputs": [
        {
          "output_type": "execute_result",
          "data": {
            "text/plain": [
              "<matplotlib.axes._subplots.AxesSubplot at 0x7f4f4f104990>"
            ]
          },
          "metadata": {},
          "execution_count": 14
        },
        {
          "output_type": "display_data",
          "data": {
            "text/plain": [
              "<Figure size 432x288 with 1 Axes>"
            ],
            "image/png": "[encoded data removed]"
          },
          "metadata": {}
        }
      ]
    },
    {
      "cell_type": "markdown",
      "source": [
        "## Decision Tree Classifier"
      ],
      "metadata": {
        "id": "evTy2S3N3Faj"
      }
    },
    {
      "cell_type": "code",
      "source": [
        "data = df.iloc[:,0:2]\n",
        "target = df.iloc[:,2:3]"
      ],
      "metadata": {
        "id": "hCQq_LKN3Esc"
      },
      "execution_count": 15,
      "outputs": []
    },
    {
      "cell_type": "code",
      "source": [
        "from sklearn import tree"
      ],
      "metadata": {
        "id": "lpfC77sr3I3S"
      },
      "execution_count": 16,
      "outputs": []
    },
    {
      "cell_type": "code",
      "source": [
        "clf = tree.DecisionTreeClassifier()"
      ],
      "metadata": {
        "id": "Yc6GKXi03KCz"
      },
      "execution_count": 17,
      "outputs": []
    },
    {
      "cell_type": "code",
      "source": [
        "clf"
      ],
      "metadata": {
        "colab": {
          "base_uri": "https://localhost:8080/"
        },
        "id": "uHGZSZfZ3LMm",
        "outputId": "6e28473a-d635-4c01-b991-dae925ad21e1"
      },
      "execution_count": 18,
      "outputs": [
        {
          "output_type": "execute_result",
          "data": {
            "text/plain": [
              "DecisionTreeClassifier()"
            ]
          },
          "metadata": {},
          "execution_count": 18
        }
      ]
    },
    {
      "cell_type": "code",
      "source": [
        "clf = clf.fit(data, target)"
      ],
      "metadata": {
        "id": "-EHhQSQN3Oe9"
      },
      "execution_count": 19,
      "outputs": []
    },
    {
      "cell_type": "markdown",
      "source": [
        "## Visualize the Tree"
      ],
      "metadata": {
        "id": "9bk8HVAU3NPY"
      }
    },
    {
      "cell_type": "code",
      "source": [
        "import pydotplus \n",
        "from IPython.display import Image"
      ],
      "metadata": {
        "id": "jvxQpa7Q3L3n"
      },
      "execution_count": 20,
      "outputs": []
    },
    {
      "cell_type": "code",
      "source": [
        "data.columns"
      ],
      "metadata": {
        "colab": {
          "base_uri": "https://localhost:8080/"
        },
        "id": "bFV8o5Im3Sa5",
        "outputId": "89e2f356-d3be-46ea-bec2-98634c40c17d"
      },
      "execution_count": 21,
      "outputs": [
        {
          "output_type": "execute_result",
          "data": {
            "text/plain": [
              "Index(['Income', 'Credit History'], dtype='object')"
            ]
          },
          "metadata": {},
          "execution_count": 21
        }
      ]
    },
    {
      "cell_type": "code",
      "source": [
        "target.columns"
      ],
      "metadata": {
        "colab": {
          "base_uri": "https://localhost:8080/"
        },
        "id": "94iksNlR3Tit",
        "outputId": "8bf393da-bfc6-4236-973e-13ff9f478733"
      },
      "execution_count": 22,
      "outputs": [
        {
          "output_type": "execute_result",
          "data": {
            "text/plain": [
              "Index(['Risk'], dtype='object')"
            ]
          },
          "metadata": {},
          "execution_count": 22
        }
      ]
    },
    {
      "cell_type": "code",
      "source": [
        "dot_data = tree.export_graphviz(clf, out_file='tree.dot', feature_names=data.columns,\n",
        "                                class_names=['Low', 'Moderate', 'High'], filled=True, \n",
        "                                rounded=True, special_characters=True)"
      ],
      "metadata": {
        "id": "_qvtA0rG3VFJ"
      },
      "execution_count": 23,
      "outputs": []
    },
    {
      "cell_type": "code",
      "source": [
        "graph = pydotplus.graph_from_dot_file('tree.dot')  "
      ],
      "metadata": {
        "id": "aMLl2Yi-3WVf"
      },
      "execution_count": 24,
      "outputs": []
    },
    {
      "cell_type": "code",
      "source": [
        "Image(graph.create_png()) "
      ],
      "metadata": {
        "colab": {
          "base_uri": "https://localhost:8080/",
          "height": 594
        },
        "id": "-9xUJ1cT3XsZ",
        "outputId": "cd061757-19b0-43df-f688-ef48b7cb34cd"
      },
      "execution_count": 25,
      "outputs": [
        {
          "output_type": "execute_result",
          "data": {
            "image/png": "[encoded data removed]",
            "text/plain": [
              "<IPython.core.display.Image object>"
            ]
          },
          "metadata": {},
          "execution_count": 25
        }
      ]
    },
    {
      "cell_type": "markdown",
      "source": [
        "## Theory behind Decision Trees\n",
        "\n",
        "\n",
        "**Terminology**\n",
        "\n",
        "1. Each root node represents a single input variable $(x)$ and a split point on that variable.\n",
        "2. The leaf nodes of the tree contain an output variable $(y)$ which is used to make a prediction.\n",
        "------------\n",
        "----------\n",
        "\n",
        "\n",
        "**Growing the tree**\n",
        "\n",
        "1. The first choice we have is how many branches we split the trees. And we choose Binary Tree because otherwise it will explode due to combinatorial explosion. So **BINARY TREES** is a practical consideration.\n",
        "2. The second decision is to choose which variable and where to split it. We need to have an objective function to do this\n",
        "\n",
        "\n",
        "\n",
        "One objective function is to maximize the information gain (IG) at each split:\n",
        "\n",
        "$$IG(D_p,f)= I(D_p) - \\frac{N_{right}}{N} I(D_{right}) - \\frac{N_{left}}{N} I(D_{left})$$\n",
        "\n",
        "where:\n",
        "\n",
        "1. $f$ is the feature to perform the split\n",
        "\n",
        "2. $D_p$, $D_{left}$ and $D_{right}$ are the datasets of the parent, left and right child node, respectively\n",
        "\n",
        "3. $I$ is the impurity measure\n",
        "\n",
        "4. $N$ is the total number of samples\n",
        " and \n",
        "\n",
        "5. $N_{left}$ and $N_{right}$ is the number of samples in the left and right child node.\n",
        "\n",
        "\n",
        "\n",
        "\n"
      ],
      "metadata": {
        "id": "AbQq5j8C3aWw"
      }
    },
    {
      "cell_type": "markdown",
      "source": [
        "Now we need to first define an Impurity measure. The three popular impurity measures are:\n",
        "\n",
        "- Gini Impurity\n",
        "- Entropy\n",
        "- Classification Error\n",
        "\n",
        "\n",
        "-----------------\n",
        "\n",
        "\n",
        "Gini Impurity and Entropy lead to similiar results when growing the tree, while Classification error is not as useful for growing the tree (but for pruning the tree) - See example [here]( http://sebastianraschka.com/faq/docs/decision-tree-binary.html).\n",
        "\n",
        "\n",
        "-------------------\n",
        "\n",
        "\n",
        "\n",
        "Lets understand Gini Impurity a little better. Gini impurity is a measure of how often a randomly chosen element from the set would be incorrectly labeled if it was randomly labeled according to the distribution of labels in the subset, Gini impurity can be computed by summing the probability $t_i$\n",
        " of an item with label $i$  being chosen times the probability $1-t_i$\n",
        " of a mistake in categorizing that item.\n",
        "\n",
        "\n",
        "\n",
        " $$I_{G}(f)=\\sum _{i=1}^{J}t_{i}(1-t_{i})=\\sum _{i=1}^{J}(t_{i}-{t_{i}}^{2})=\\sum _{i=1}^{J}t_{i}-\\sum _{i=1}^{J}{t_{i}}^{2}=1-\\sum _{i=1}^{J}{t_{i}}^{2}$$\n",
        "\n",
        "\n",
        " "
      ],
      "metadata": {
        "id": "rhiSsM664HBJ"
      }
    },
    {
      "cell_type": "markdown",
      "source": [
        "## Let's calculate for the entire dataset\n",
        "\n",
        "$$I_G(t) = 1 - \\left(\\frac{6}{18}\\right)^2 - \\left(\\frac{4}{18}\\right)^2 - \\left(\\frac{8}{18}\\right)^2 = 1 - \\frac{116}{256} = 0.642$$\n",
        "\n",
        "Low - $4$, Moderate - $6$, High - $8$ and total observations are $18$\n",
        "\n",
        "-----\n",
        "\n",
        "`scikit-learn` uses an optimized **CART algorithm**, which will use a **greedy approach**.\n",
        "\n",
        "\n",
        "A greedy approach is used to divide the space called recursive binary splitting. This is a numerical procedure where all the values are lined up and different split points are tried and tested using a objective cost function. The split with the best cost (lowest cost because we minimize cost) is selected.\n",
        "\n",
        "Another way to think of this is that a learned binary tree is actually a partitioning of the input space. You can think of each input variable as a dimension on an p-dimensional space. The decision tree split this up into rectangles (when $p=2$ input variables) or some kind of hyper-rectangles with more inputs.\n",
        "\n",
        "We can draw these partitions for our dataset\n"
      ],
      "metadata": {
        "id": "fJAaFmak4bfh"
      }
    },
    {
      "cell_type": "code",
      "source": [
        "x_min, x_max = data.iloc[:, 0].min() - 2000, data.iloc[:, 0].max() + 2000\n",
        "y_min, y_max = data.iloc[:, 1].min() - 1, data.iloc[:, 1].max() + 1\n",
        "xx, yy = np.meshgrid(np.arange(x_min, x_max, (x_max - x_min)/100), np.arange(y_min, y_max, (y_max - y_min)/100))\n"
      ],
      "metadata": {
        "id": "Gw2R0NdD4w3-"
      },
      "execution_count": 27,
      "outputs": []
    },
    {
      "cell_type": "code",
      "source": [
        "Z = clf.predict(np.c_[xx.ravel(), yy.ravel()])\n",
        "Z = Z.reshape(xx.shape)\n",
        "cs = plt.contourf(xx, yy, Z, cmap=plt.cm.viridis, alpha = 0.5)\n",
        "plt.scatter(x = data.iloc[:,0], y = data.iloc[:,1], c = df['Risk'], s = 100, cmap=plt.cm.magma)\n"
      ],
      "metadata": {
        "colab": {
          "base_uri": "https://localhost:8080/",
          "height": 334
        },
        "id": "Bcg8L5MG4y4W",
        "outputId": "b1e4eaee-73fd-4fcf-b234-132076e52ee3"
      },
      "execution_count": 34,
      "outputs": [
        {
          "output_type": "stream",
          "name": "stderr",
          "text": [
            "/usr/local/lib/python3.7/dist-packages/sklearn/base.py:451: UserWarning: X does not have valid feature names, but DecisionTreeClassifier was fitted with feature names\n",
            "  \"X does not have valid feature names, but\"\n"
          ]
        },
        {
          "output_type": "execute_result",
          "data": {
            "text/plain": [
              "<matplotlib.collections.PathCollection at 0x7f4f4958ab10>"
            ]
          },
          "metadata": {},
          "execution_count": 34
        },
        {
          "output_type": "display_data",
          "data": {
            "text/plain": [
              "<Figure size 432x288 with 1 Axes>"
            ],
            "image/png": "[encoded data removed]"
          },
          "metadata": {}
        }
      ]
    },
    {
      "cell_type": "markdown",
      "source": [
        "## Stop Growing the tree\n",
        "1. The obvious point to stop growing the tree is when the Gini Impurity = 0, that is there is only one label left in a node.\n",
        "\n",
        "2. Another option is to define a max_depth of the tree, though this may lead to suboptimal trees.\n",
        "\n",
        "3. The most common stopping procedure is to use a minimum count on the number of training instances assigned to each leaf node. If the count is less than some minimum then the split is not accepted and the node is taken as a final leaf node.\n"
      ],
      "metadata": {
        "id": "iv5e4muX5DVY"
      }
    }
  ]
}